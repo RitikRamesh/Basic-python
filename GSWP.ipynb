{
 "cells": [
  {
   "cell_type": "code",
   "execution_count": 2,
   "id": "d5c965e4",
   "metadata": {
    "scrolled": false
   },
   "outputs": [
    {
     "data": {
      "text/plain": [
       "False"
      ]
     },
     "execution_count": 2,
     "metadata": {},
     "output_type": "execute_result"
    }
   ],
   "source": [
    "a = 20\n",
    "b = 20\n",
    "(a != b)"
   ]
  },
  {
   "cell_type": "code",
   "execution_count": 3,
   "id": "2408c23a",
   "metadata": {},
   "outputs": [
    {
     "name": "stdout",
     "output_type": "stream",
     "text": [
      "['cat', 'ox', 'cow', 'panda']\n"
     ]
    }
   ],
   "source": [
    "x = ['cat', 'rat', 'cow', 'panda', 'dog']\n",
    "x[1] = 'ox'\n",
    "print(x[0:4])"
   ]
  },
  {
   "cell_type": "code",
   "execution_count": 4,
   "id": "893359ad",
   "metadata": {},
   "outputs": [
    {
     "name": "stdout",
     "output_type": "stream",
     "text": [
      "{'apple': 'fruit', 'cauliflower': 'vegetable', 'sonata': 30}\n"
     ]
    }
   ],
   "source": [
    "x = {\n",
    "    'apple':'fruit',\n",
    "    'cauliflower':'vegetable',\n",
    "    'sonata':['watch brand', 20, 30],\n",
    "    'sonata':30\n",
    "}\n",
    "print(x)"
   ]
  },
  {
   "cell_type": "code",
   "execution_count": 5,
   "id": "331440ec",
   "metadata": {},
   "outputs": [
    {
     "name": "stdout",
     "output_type": "stream",
     "text": [
      "{1, 2, 3, 4, 5, 10}\n",
      "{1, 2, 3, 4, 5, 9, 10}\n",
      "{1, 2, 3, 4, 5, 6, 7, 8, 9, 10}\n",
      "{1, 2, 3, 4, 6, 7, 8, 9, 10}\n"
     ]
    }
   ],
   "source": [
    "x = {1, 2, 3, 4, 4, 5, 10}\n",
    "y = {5,6,7,8,9}\n",
    "print(x)\n",
    "x.add(9)\n",
    "print(x)\n",
    "x.update(y)\n",
    "print(x)\n",
    "x.remove(5)\n",
    "print(x)"
   ]
  },
  {
   "attachments": {},
   "cell_type": "markdown",
   "id": "1701e0cf",
   "metadata": {},
   "source": [
    "CONDITIONAL STATEMENT"
   ]
  },
  {
   "cell_type": "code",
   "execution_count": 6,
   "id": "8a93839a",
   "metadata": {},
   "outputs": [
    {
     "name": "stdout",
     "output_type": "stream",
     "text": [
      "b is greater than a\n"
     ]
    }
   ],
   "source": [
    "a=5\n",
    "b=10\n",
    "if b>a:\n",
    "    print('b is greater than a')\n",
    "else:\n",
    "    print('a is greater')"
   ]
  },
  {
   "cell_type": "code",
   "execution_count": 7,
   "id": "95af6cc5",
   "metadata": {},
   "outputs": [
    {
     "name": "stdout",
     "output_type": "stream",
     "text": [
      "a is greater than b\n"
     ]
    }
   ],
   "source": [
    "a=53\n",
    "b=10\n",
    "if b>a:\n",
    "    print('b is greater than a')\n",
    "elif a>b:\n",
    "    print('a is greater than b')\n",
    "else:\n",
    "    print('a is greater')"
   ]
  },
  {
   "cell_type": "code",
   "execution_count": 8,
   "id": "7dd05d22",
   "metadata": {},
   "outputs": [
    {
     "name": "stdout",
     "output_type": "stream",
     "text": [
      "1\n",
      "2\n",
      "3\n",
      "4\n",
      "5\n",
      "6\n",
      "7\n",
      "8\n",
      "9\n",
      "10\n"
     ]
    }
   ],
   "source": [
    "i = 1\n",
    "while i <=10:\n",
    "    print(i)\n",
    "    i += 1"
   ]
  },
  {
   "cell_type": "code",
   "execution_count": 9,
   "id": "8ddd8f2c",
   "metadata": {},
   "outputs": [
    {
     "name": "stdout",
     "output_type": "stream",
     "text": [
      "10\n",
      "12\n",
      "14\n",
      "16\n",
      "18\n",
      "20\n"
     ]
    }
   ],
   "source": [
    "i = 10\n",
    "while i <= 20:\n",
    "    print(i)\n",
    "    i += 2"
   ]
  },
  {
   "cell_type": "code",
   "execution_count": 10,
   "id": "b1ed647b",
   "metadata": {},
   "outputs": [
    {
     "name": "stdout",
     "output_type": "stream",
     "text": [
      "22\n"
     ]
    }
   ],
   "source": [
    "i = 22\n",
    "while i%2 == 0:\n",
    "    if i > 0:\n",
    "        print(i)\n",
    "    i += 1"
   ]
  },
  {
   "cell_type": "code",
   "execution_count": 11,
   "id": "98f3debe",
   "metadata": {},
   "outputs": [
    {
     "name": "stdout",
     "output_type": "stream",
     "text": [
      "a\n",
      "b\n",
      "c\n",
      "d\n",
      "e\n",
      "10\n",
      "11\n",
      "12\n",
      "13\n",
      "14\n",
      "15\n",
      "16\n",
      "17\n",
      "18\n",
      "19\n",
      "20\n",
      "['a', 'b', 'c', 'd', 'e']\n",
      "['a', 'b', 'c', 'd', 'e']\n",
      "['a', 'b', 'c', 'd', 'e']\n"
     ]
    }
   ],
   "source": [
    "x = ['a','b','c','d','e']\n",
    "for y in x:\n",
    "    print(y)\n",
    "for y in range(10,21):\n",
    "    print(y)    \n",
    "for y in range(0,3):\n",
    "    print(x)"
   ]
  },
  {
   "cell_type": "code",
   "execution_count": 54,
   "id": "646a9917",
   "metadata": {},
   "outputs": [],
   "source": [
    "x=[1,2,3,4,5,6]"
   ]
  },
  {
   "cell_type": "code",
   "execution_count": 55,
   "id": "9c02b971",
   "metadata": {},
   "outputs": [
    {
     "data": {
      "text/plain": [
       "[1, 4, 9, 16, 25, 36]"
      ]
     },
     "execution_count": 55,
     "metadata": {},
     "output_type": "execute_result"
    }
   ],
   "source": [
    "[i**2 for i in x]"
   ]
  },
  {
   "cell_type": "code",
   "execution_count": 12,
   "id": "b605706d",
   "metadata": {},
   "outputs": [
    {
     "name": "stdout",
     "output_type": "stream",
     "text": [
      "6\n",
      "8\n",
      "10\n",
      "12\n",
      "14\n"
     ]
    }
   ],
   "source": [
    "for i in range(5,16):\n",
    "    if i%2 == 0:\n",
    "        print(i)"
   ]
  },
  {
   "cell_type": "code",
   "execution_count": 13,
   "id": "8203b0bd",
   "metadata": {},
   "outputs": [
    {
     "name": "stdout",
     "output_type": "stream",
     "text": [
      "2\n",
      "4\n",
      "6\n",
      "8\n",
      "10\n",
      "12\n",
      "14\n"
     ]
    }
   ],
   "source": [
    "for i in range (2,16,2):\n",
    "    print(i)"
   ]
  },
  {
   "cell_type": "code",
   "execution_count": 14,
   "id": "8bddbee6",
   "metadata": {},
   "outputs": [
    {
     "name": "stdout",
     "output_type": "stream",
     "text": [
      "jskdbfk fjsknf;mddsknfsflknsdfsfm, djnkdj fmns fksdnfsdnf sdfndf dfdn\n",
      "sdfgkjkljhgjnm hjjfgb jbkj jknk m kjn\n",
      "dfgsdfg sfdgdfgh\n",
      "sdfgjuyhfgh dsfghdfgj ffghkjndkljnfj kdjfnmsdf kkdm .ndf.,msdnvmcv smdfgmsdg,m g d,mfgn d \n"
     ]
    }
   ],
   "source": [
    "line = '''jskdbfk fjsknf;mddsknfsflknsdfsfm, djnkdj fmns fksdnfsdnf sdfndf dfdn\n",
    "sdfgkjkljhgjnm hjjfgb jbkj jknk m kjn\n",
    "dfgsdfg sfdgdfgh\n",
    "sdfgjuyhfgh dsfghdfgj ffghkjndkljnfj kdjfnmsdf kkdm .ndf.,msdnvmcv smdfgmsdg,m g d,mfgn d '''\n",
    "line\n",
    "print(line)"
   ]
  },
  {
   "cell_type": "code",
   "execution_count": 15,
   "id": "a126b3ba",
   "metadata": {},
   "outputs": [
    {
     "name": "stdout",
     "output_type": "stream",
     "text": [
      "acegikm\n",
      "abcdefghijklmo\n",
      "3\n"
     ]
    }
   ],
   "source": [
    "string = 'abcdefghijklmn'\n",
    "num1 = 13\n",
    "num2 = 44\n",
    "x = string.index('d')\n",
    "y= string.replace('n', 'o')\n",
    "print(string[0::2 ])\n",
    "print(y)\n",
    "print(x)"
   ]
  },
  {
   "attachments": {},
   "cell_type": "markdown",
   "id": "8e54158e",
   "metadata": {},
   "source": [
    "Tuples \n",
    "allow duplicates, ordered and immutable\n",
    "used in parenthesis or ()\n",
    "() may or may not be used."
   ]
  },
  {
   "cell_type": "code",
   "execution_count": 16,
   "id": "a78bfa01",
   "metadata": {},
   "outputs": [
    {
     "name": "stdout",
     "output_type": "stream",
     "text": [
      "('sunday', 'monday', 'tuesday', 'wednesday', 'thursday', 'friday', 'saturday')\n",
      "('sunday', 'monday', 'tuesday', 'wednesday', 'thursday', 'friday', 'saturday')\n",
      "4\n"
     ]
    }
   ],
   "source": [
    "x = ('sunday', 'monday', 'tuesday', 'wednesday', 'thursday', 'friday', 'saturday')\n",
    "y = 'sunday', 'monday', 'tuesday', 'wednesday', 'thursday', 'friday', 'saturday'\n",
    "z = x.index('thursday')\n",
    "print(x)\n",
    "print(y)\n",
    "print(z)"
   ]
  },
  {
   "attachments": {},
   "cell_type": "markdown",
   "id": "9bc14e08",
   "metadata": {},
   "source": [
    "lists allow duplicates , ordered and mutable. \n",
    "Used in [].\n",
    "We can store list, tuple, set in list."
   ]
  },
  {
   "cell_type": "code",
   "execution_count": 17,
   "id": "f6a4137c",
   "metadata": {},
   "outputs": [
    {
     "name": "stdout",
     "output_type": "stream",
     "text": [
      "['abc', 'xyz', 32, 54, [1, 'ritik', 83], ('abc', 'klmn'), {89, 66, 15}]\n",
      "<class 'list'>\n"
     ]
    }
   ],
   "source": [
    "x= ['abc','xyz', 32, 54, [1, 'ritik', 83], ('abc', 'klmn'),{15,66,89}]\n",
    "print(x)\n",
    "print(type(x))"
   ]
  },
  {
   "attachments": {},
   "cell_type": "markdown",
   "id": "026b98f0",
   "metadata": {},
   "source": [
    "Dictionaries\n",
    "ordered(in 3.8 version of python), changeable, don't allow duplicates.\n",
    "Advantage over list is that it allows to create a key value pair.\n",
    "Used in {}"
   ]
  },
  {
   "cell_type": "code",
   "execution_count": 18,
   "id": "cd228e39",
   "metadata": {},
   "outputs": [
    {
     "name": "stdout",
     "output_type": "stream",
     "text": [
      "<class 'dict'>\n",
      "15\n"
     ]
    }
   ],
   "source": [
    "salaries = {'john': 15,\n",
    "            'james': 18,\n",
    "            'rani': 23}\n",
    "print(type(salaries))\n",
    "print(salaries['john'])"
   ]
  },
  {
   "attachments": {},
   "cell_type": "markdown",
   "id": "dc133f13",
   "metadata": {},
   "source": [
    "if want to get valuesthat aren't defined or assigned in dictionary then can do with 'get'."
   ]
  },
  {
   "cell_type": "code",
   "execution_count": 19,
   "metadata": {},
   "outputs": [
    {
     "name": "stdout",
     "output_type": "stream",
     "text": [
      "15\n"
     ]
    },
    {
     "data": {
      "text/plain": [
       "57"
      ]
     },
     "execution_count": 19,
     "metadata": {},
     "output_type": "execute_result"
    }
   ],
   "source": [
    "salaries = {'john': 15,\n",
    "            'james': 18,\n",
    "            'rani': 23}\n",
    "print(salaries.get('johansd', 15)) \n",
    "salaries.get('amantha', 57)"
   ]
  },
  {
   "cell_type": "code",
   "execution_count": 20,
   "id": "0540d407",
   "metadata": {},
   "outputs": [
    {
     "data": {
      "text/plain": [
       "{'adhua': 77}"
      ]
     },
     "execution_count": 20,
     "metadata": {},
     "output_type": "execute_result"
    }
   ],
   "source": [
    "x = dict()\n",
    "x\n",
    "x['adhua'] = 77\n",
    "x"
   ]
  },
  {
   "attachments": {},
   "cell_type": "markdown",
   "id": "8ba85c43",
   "metadata": {},
   "source": [
    "Sets \n",
    "unordered,\n",
    "immutable,\n",
    "doesn't allow duplicates\n",
    "used in {}."
   ]
  },
  {
   "attachments": {},
   "cell_type": "markdown",
   "id": "4a26cebb",
   "metadata": {},
   "source": [
    "To create set we can use{} but if values are not there by default it will be taken as dictionary.\n",
    "So to create set we can do : variable = set()"
   ]
  },
  {
   "cell_type": "code",
   "execution_count": 21,
   "id": "1dbd5c58",
   "metadata": {},
   "outputs": [
    {
     "name": "stdout",
     "output_type": "stream",
     "text": [
      "{1, 2}\n"
     ]
    },
    {
     "data": {
      "text/plain": [
       "True"
      ]
     },
     "execution_count": 21,
     "metadata": {},
     "output_type": "execute_result"
    }
   ],
   "source": [
    "s = set()\n",
    "s.add(1)\n",
    "s.add(2)\n",
    "s.add(2)\n",
    "print(s)\n",
    "1 in s"
   ]
  },
  {
   "cell_type": "code",
   "execution_count": 22,
   "id": "a86398a7",
   "metadata": {},
   "outputs": [
    {
     "name": "stdout",
     "output_type": "stream",
     "text": [
      "{'jane': 15, 'james': 22}\n",
      "{'jane': 15, 'james': 22, 'andy': 29}\n",
      "{'jane': 15, 'james': 22}\n",
      "jane\n",
      "james\n",
      "jane 15\n",
      "james 22\n",
      "True\n"
     ]
    }
   ],
   "source": [
    "sal = {'jane': 15, 'james': 22}\n",
    "print(sal)\n",
    "sal['andy'] = 29\n",
    "print(sal)\n",
    "del sal['andy']\n",
    "print(sal)\n",
    "\n",
    "for i in sal.keys():\n",
    "    print(i)\n",
    "\n",
    "for key, val in sal.items():\n",
    "    print(key, val)\n",
    "print('jane' in sal)"
   ]
  },
  {
   "cell_type": "code",
   "execution_count": 23,
   "id": "5a63997b",
   "metadata": {},
   "outputs": [
    {
     "name": "stdout",
     "output_type": "stream",
     "text": [
      "{0: 0, 1: 1, 2: 4, 3: 9, 4: 16, 5: 25, 6: 36, 7: 49, 8: 64, 9: 81, 10: 100}\n"
     ]
    }
   ],
   "source": [
    "x = {x : x*x for x in range(0,11)}\n",
    "print(x)"
   ]
  },
  {
   "attachments": {},
   "cell_type": "markdown",
   "id": "c6316662",
   "metadata": {},
   "source": [
    "FUNCTIONS - are a block of code performs a specific task.\n",
    "functions run only when it is called."
   ]
  },
  {
   "attachments": {},
   "cell_type": "markdown",
   "id": "2569d1ca",
   "metadata": {},
   "source": [
    "syntax:  \n",
    "def function name():"
   ]
  },
  {
   "attachments": {},
   "cell_type": "markdown",
   "id": "9318430e",
   "metadata": {},
   "source": [
    "defining a function"
   ]
  },
  {
   "cell_type": "code",
   "execution_count": 24,
   "id": "e87a43ab",
   "metadata": {},
   "outputs": [],
   "source": [
    "def fun1():\n",
    "    print('hello world')"
   ]
  },
  {
   "attachments": {},
   "cell_type": "markdown",
   "id": "5feb8b7d",
   "metadata": {},
   "source": [
    "calling a function"
   ]
  },
  {
   "attachments": {},
   "cell_type": "markdown",
   "id": "8597a0bb",
   "metadata": {},
   "source": [
    "syntax:\n",
    "function name()"
   ]
  },
  {
   "cell_type": "code",
   "execution_count": 25,
   "id": "76eaf06b",
   "metadata": {},
   "outputs": [
    {
     "name": "stdout",
     "output_type": "stream",
     "text": [
      "11\n"
     ]
    }
   ],
   "source": [
    "def add(a,b):\n",
    "    c = a + b\n",
    "    print(c)\n",
    "add(5,6)"
   ]
  },
  {
   "cell_type": "code",
   "execution_count": 26,
   "id": "0612c1c8",
   "metadata": {},
   "outputs": [
    {
     "name": "stdout",
     "output_type": "stream",
     "text": [
      "5\n"
     ]
    }
   ],
   "source": [
    "def add(a,b):\n",
    "    c = a + b\n",
    "    print(c)\n",
    "add(2,3)"
   ]
  },
  {
   "cell_type": "code",
   "execution_count": 27,
   "id": "b9b952b8",
   "metadata": {},
   "outputs": [
    {
     "name": "stdout",
     "output_type": "stream",
     "text": [
      "rahul\n"
     ]
    }
   ],
   "source": [
    "def name(z):\n",
    "    print(z)\n",
    "name('rahul')"
   ]
  },
  {
   "attachments": {},
   "cell_type": "markdown",
   "id": "d21ce369",
   "metadata": {},
   "source": [
    "Return"
   ]
  },
  {
   "cell_type": "code",
   "execution_count": 28,
   "id": "99f4b999",
   "metadata": {},
   "outputs": [
    {
     "name": "stdout",
     "output_type": "stream",
     "text": [
      "5\n"
     ]
    }
   ],
   "source": [
    "def add(a, b):\n",
    "    c = a + b\n",
    "    return c\n",
    "c = add(2,3)\n",
    "print(c)"
   ]
  },
  {
   "cell_type": "code",
   "execution_count": 29,
   "id": "19fcb572",
   "metadata": {},
   "outputs": [
    {
     "name": "stdout",
     "output_type": "stream",
     "text": [
      "even\n"
     ]
    }
   ],
   "source": [
    "def even(x):\n",
    "    if x%2 == 0:\n",
    "        print('even')\n",
    "x = int(input('enter a no.'))\n",
    "even (x)"
   ]
  },
  {
   "cell_type": "code",
   "execution_count": 61,
   "id": "756121db",
   "metadata": {},
   "outputs": [
    {
     "name": "stdout",
     "output_type": "stream",
     "text": [
      "['123', '13', '123', '123']\n"
     ]
    }
   ],
   "source": [
    "list1 = []\n",
    "for i in range(4):\n",
    "    x = input('enter value :')\n",
    "    list1.append(x)\n",
    "print(list1)"
   ]
  },
  {
   "cell_type": "code",
   "execution_count": 63,
   "id": "95c5e84a",
   "metadata": {},
   "outputs": [
    {
     "data": {
      "text/plain": [
       "[1, 4, 9, 16, 25]"
      ]
     },
     "execution_count": 63,
     "metadata": {},
     "output_type": "execute_result"
    }
   ],
   "source": [
    "seq = [1,2,3,4,5]\n",
    "list(map(lambda num:num**2,seq))"
   ]
  },
  {
   "cell_type": "code",
   "execution_count": 65,
   "id": "6f236343",
   "metadata": {},
   "outputs": [],
   "source": [
    "s='Hello in my World'"
   ]
  },
  {
   "cell_type": "code",
   "execution_count": 67,
   "id": "870298c2",
   "metadata": {},
   "outputs": [
    {
     "data": {
      "text/plain": [
       "'hello in my world'"
      ]
     },
     "execution_count": 67,
     "metadata": {},
     "output_type": "execute_result"
    }
   ],
   "source": [
    "s.lower()"
   ]
  },
  {
   "cell_type": "code",
   "execution_count": 68,
   "id": "52a5172b",
   "metadata": {},
   "outputs": [
    {
     "data": {
      "text/plain": [
       "'HELLO IN MY WORLD'"
      ]
     },
     "execution_count": 68,
     "metadata": {},
     "output_type": "execute_result"
    }
   ],
   "source": [
    "s.upper()"
   ]
  },
  {
   "cell_type": "code",
   "execution_count": 69,
   "id": "74a43a6b",
   "metadata": {},
   "outputs": [
    {
     "data": {
      "text/plain": [
       "['Hello', 'in', 'my', 'World']"
      ]
     },
     "execution_count": 69,
     "metadata": {},
     "output_type": "execute_result"
    }
   ],
   "source": [
    "s.split()"
   ]
  },
  {
   "cell_type": "code",
   "execution_count": 72,
   "id": "1265acb4",
   "metadata": {},
   "outputs": [],
   "source": [
    "tweet = 'Go Sports! #Sports'"
   ]
  },
  {
   "cell_type": "code",
   "execution_count": 73,
   "id": "7f7b2b64",
   "metadata": {},
   "outputs": [
    {
     "data": {
      "text/plain": [
       "['Go', 'Sports!', '#Sports']"
      ]
     },
     "execution_count": 73,
     "metadata": {},
     "output_type": "execute_result"
    }
   ],
   "source": [
    "tweet.split()"
   ]
  },
  {
   "cell_type": "code",
   "execution_count": 76,
   "id": "4d0d875a",
   "metadata": {},
   "outputs": [
    {
     "data": {
      "text/plain": [
       "'Sports'"
      ]
     },
     "execution_count": 76,
     "metadata": {},
     "output_type": "execute_result"
    }
   ],
   "source": [
    "tweet.split('#')[1]"
   ]
  },
  {
   "attachments": {},
   "cell_type": "markdown",
   "id": "58525a5e",
   "metadata": {},
   "source": [
    "OOPS - object oriented programming\n"
   ]
  },
  {
   "attachments": {},
   "cell_type": "markdown",
   "id": "3eb67c13",
   "metadata": {},
   "source": [
    "objects:\n",
    "i) attribute -  data/properties\n",
    "ii) behaviour - functions"
   ]
  },
  {
   "attachments": {},
   "cell_type": "markdown",
   "id": "66cd00c3",
   "metadata": {},
   "source": [
    "classes - design\n",
    "objects - real world entity"
   ]
  },
  {
   "attachments": {},
   "cell_type": "markdown",
   "id": "572fad43",
   "metadata": {},
   "source": [
    "CREATING CLASS"
   ]
  },
  {
   "attachments": {},
   "cell_type": "markdown",
   "id": "4a5fc2e9",
   "metadata": {},
   "source": [
    "syntax:\n",
    "class class_name():"
   ]
  },
  {
   "cell_type": "code",
   "execution_count": 31,
   "id": "de90abd2",
   "metadata": {},
   "outputs": [],
   "source": [
    "class sample():\n",
    "    a = 10"
   ]
  },
  {
   "attachments": {},
   "cell_type": "markdown",
   "id": "0338c17d",
   "metadata": {},
   "source": [
    "CREATING OBJECT"
   ]
  },
  {
   "attachments": {},
   "cell_type": "markdown",
   "id": "d60babe6",
   "metadata": {},
   "source": [
    "Syntax:\n",
    "object name = class_name()"
   ]
  },
  {
   "cell_type": "code",
   "execution_count": 32,
   "id": "dad6d868",
   "metadata": {},
   "outputs": [],
   "source": [
    "ob = sample()"
   ]
  },
  {
   "attachments": {},
   "cell_type": "markdown",
   "id": "21c2b8c9",
   "metadata": {},
   "source": [
    "to access the data memeber in class we use objects."
   ]
  },
  {
   "cell_type": "code",
   "execution_count": 33,
   "id": "e5dfdc47",
   "metadata": {},
   "outputs": [
    {
     "name": "stdout",
     "output_type": "stream",
     "text": [
      "10\n",
      "5\n"
     ]
    }
   ],
   "source": [
    "class sample():\n",
    "    a = 10  #attribute\n",
    "    def config(self,x):\n",
    "        return x#behaviour\n",
    "ob = sample()\n",
    "print(ob.a)\n",
    "\n",
    "x = ob.config(5)\n",
    "print(x)\n"
   ]
  },
  {
   "attachments": {},
   "cell_type": "markdown",
   "id": "6ae21fcd",
   "metadata": {},
   "source": [
    "CLASS "
   ]
  },
  {
   "attachments": {},
   "cell_type": "markdown",
   "id": "6b94cf7c",
   "metadata": {},
   "source": [
    "behaviour of class: function present inside of class are behaviour of class"
   ]
  },
  {
   "attachments": {},
   "cell_type": "markdown",
   "id": "9e4bce50",
   "metadata": {},
   "source": [
    "syntax :\n",
    "class class_name():"
   ]
  },
  {
   "cell_type": "code",
   "execution_count": 56,
   "id": "0df142f0",
   "metadata": {},
   "outputs": [
    {
     "data": {
      "text/plain": [
       "10"
      ]
     },
     "execution_count": 56,
     "metadata": {},
     "output_type": "execute_result"
    }
   ],
   "source": [
    "class Max():\n",
    "    num = 10\n",
    "    def fun1(self):\n",
    "        print('welcome to intellipaat')\n",
    "ob = Max()\n",
    "ob.num"
   ]
  },
  {
   "attachments": {},
   "cell_type": "markdown",
   "id": "7ae4f831",
   "metadata": {},
   "source": [
    "SELF(instance variable)"
   ]
  },
  {
   "attachments": {},
   "cell_type": "markdown",
   "id": "4c53f110",
   "metadata": {},
   "source": [
    "to hold down random values."
   ]
  },
  {
   "cell_type": "code",
   "execution_count": 57,
   "id": "ee3179cd",
   "metadata": {},
   "outputs": [
    {
     "name": "stdout",
     "output_type": "stream",
     "text": [
      "8\n"
     ]
    }
   ],
   "source": [
    "class calculator():\n",
    "    def add (self,a,b):\n",
    "        print(a + b)\n",
    "obj = calculator()\n",
    "obj.add(3,5)"
   ]
  },
  {
   "cell_type": "code",
   "execution_count": 36,
   "id": "bb8ea508",
   "metadata": {},
   "outputs": [
    {
     "ename": "TypeError",
     "evalue": "add() takes 2 positional arguments but 3 were given",
     "output_type": "error",
     "traceback": [
      "\u001b[0;31m---------------------------------------------------------------------------\u001b[0m",
      "\u001b[0;31mTypeError\u001b[0m                                 Traceback (most recent call last)",
      "\u001b[1;32m/Users/ritikramesh/Documents/Python/PYINT/CLASSES/GSWP.ipynb Cell 61\u001b[0m in \u001b[0;36m<cell line: 5>\u001b[0;34m()\u001b[0m\n\u001b[1;32m      <a href='vscode-notebook-cell:/Users/ritikramesh/Documents/Python/PYINT/CLASSES/GSWP.ipynb#Y114sZmlsZQ%3D%3D?line=2'>3</a>\u001b[0m         \u001b[39mprint\u001b[39m(a \u001b[39m+\u001b[39m b)\n\u001b[1;32m      <a href='vscode-notebook-cell:/Users/ritikramesh/Documents/Python/PYINT/CLASSES/GSWP.ipynb#Y114sZmlsZQ%3D%3D?line=3'>4</a>\u001b[0m obj \u001b[39m=\u001b[39m calculator()\n\u001b[0;32m----> <a href='vscode-notebook-cell:/Users/ritikramesh/Documents/Python/PYINT/CLASSES/GSWP.ipynb#Y114sZmlsZQ%3D%3D?line=4'>5</a>\u001b[0m obj\u001b[39m.\u001b[39;49madd(\u001b[39m3\u001b[39;49m,\u001b[39m5\u001b[39;49m)\n",
      "\u001b[0;31mTypeError\u001b[0m: add() takes 2 positional arguments but 3 were given"
     ]
    }
   ],
   "source": [
    "class calculator():\n",
    "    def add (a,b):\n",
    "        print(a + b)\n",
    "obj = calculator()\n",
    "obj.add(3,5)"
   ]
  },
  {
   "attachments": {},
   "cell_type": "markdown",
   "id": "f719f280",
   "metadata": {},
   "source": [
    "above code will give error : calculator.add() takes 2 positional arguments but 3 were given"
   ]
  },
  {
   "attachments": {},
   "cell_type": "markdown",
   "id": "248163e9",
   "metadata": {},
   "source": [
    "CONSTRUCTORS -  a special function which gets called when the object is created."
   ]
  },
  {
   "attachments": {},
   "cell_type": "markdown",
   "id": "0d9b151c",
   "metadata": {},
   "source": [
    "syntax:\n",
    "(doubleunderscore)init(doubleunderscore)"
   ]
  },
  {
   "cell_type": "code",
   "execution_count": 37,
   "id": "c7dc739c",
   "metadata": {},
   "outputs": [
    {
     "name": "stdout",
     "output_type": "stream",
     "text": [
      "welcome to Max\n",
      "hello world\n"
     ]
    }
   ],
   "source": [
    "class abc():\n",
    "    def __init__(self):\n",
    "        print('welcome to Max')\n",
    "    def fun1(self):\n",
    "        print('hello world')\n",
    "x = abc()\n",
    "x.fun1()"
   ]
  },
  {
   "cell_type": "code",
   "execution_count": 38,
   "id": "1860db40",
   "metadata": {},
   "outputs": [
    {
     "name": "stdout",
     "output_type": "stream",
     "text": [
      "welcome to Max your user id is 123456789\n",
      "enter password\n"
     ]
    }
   ],
   "source": [
    "class abc():\n",
    "    def __init__(self,a):\n",
    "        print('welcome to Max your user id is',a)\n",
    "    def fun1(self):\n",
    "        print('enter password')\n",
    "x = abc(123456789)\n",
    "x.fun1()"
   ]
  },
  {
   "attachments": {},
   "cell_type": "markdown",
   "id": "158fd2aa",
   "metadata": {},
   "source": [
    "We cannot have multiple constructor in a class"
   ]
  },
  {
   "attachments": {},
   "cell_type": "markdown",
   "id": "ba10eada",
   "metadata": {},
   "source": [
    "FOUR PILLARS OF OOPS"
   ]
  },
  {
   "attachments": {},
   "cell_type": "markdown",
   "id": "3a8c6380",
   "metadata": {},
   "source": [
    "Polymorphism,\n",
    "Inheritance,\n",
    "Abstraction,\n",
    "Encapulation"
   ]
  },
  {
   "attachments": {},
   "cell_type": "markdown",
   "id": "200de908",
   "metadata": {},
   "source": [
    "POLYMORPHISM - \n",
    "poly - many\n",
    "morph - forms\n",
    "can have multiple functions and all of them should work differently"
   ]
  },
  {
   "attachments": {},
   "cell_type": "markdown",
   "id": "67af480b",
   "metadata": {},
   "source": [
    "function overloading: same function name but different parameters (overloading doesn't exist in python) \n",
    "\n",
    "function overriding: last function overriding previous function"
   ]
  },
  {
   "cell_type": "code",
   "execution_count": 39,
   "id": "0d0de006",
   "metadata": {},
   "outputs": [
    {
     "name": "stdout",
     "output_type": "stream",
     "text": [
      "11\n"
     ]
    }
   ],
   "source": [
    "def fun1(a,b):                          #doesn't recognize this function\n",
    "    print(a + b) \n",
    "def fun1(a,b,c):\n",
    "    print(a + b +c)\n",
    "# fun1(2,3)                             overrided by second function\n",
    "fun1(2,3,6)"
   ]
  },
  {
   "cell_type": "code",
   "execution_count": 40,
   "id": "fc78118e",
   "metadata": {},
   "outputs": [
    {
     "name": "stdout",
     "output_type": "stream",
     "text": [
      "6\n"
     ]
    }
   ],
   "source": [
    "class addition():\n",
    "    def add(self,a):\n",
    "        print(a )\n",
    "    def add(self,a,b):\n",
    "        print(a + b)\n",
    "    def add(self,a,b,c):\n",
    "        print(a + b + c)\n",
    "x = addition()\n",
    "x.add(1,2,3)"
   ]
  },
  {
   "attachments": {},
   "cell_type": "markdown",
   "id": "ea3e7881",
   "metadata": {},
   "source": [
    "# INHERITANCE"
   ]
  },
  {
   "attachments": {},
   "cell_type": "markdown",
   "id": "7f313240",
   "metadata": {},
   "source": [
    "Parent class - having original value\n",
    "\n",
    "child class - values are inherited from parent class"
   ]
  },
  {
   "attachments": {},
   "cell_type": "markdown",
   "id": "7ab4ea83",
   "metadata": {},
   "source": [
    "SINGLE INHERIITANCE\n",
    "\n",
    "inheritance from one parent to one child"
   ]
  },
  {
   "attachments": {},
   "cell_type": "markdown",
   "id": "552f4b31",
   "metadata": {},
   "source": [
    "Object of parent class can't have access of functions child class, vice versa is possible though."
   ]
  },
  {
   "cell_type": "code",
   "execution_count": 41,
   "id": "0d3e209a",
   "metadata": {},
   "outputs": [
    {
     "name": "stdout",
     "output_type": "stream",
     "text": [
      "rahul\n",
      "rahul\n",
      "mona\n"
     ]
    }
   ],
   "source": [
    "class parent():\n",
    "    def fun1(self):\n",
    "        print('rahul')\n",
    "        \n",
    "class child(parent):\n",
    "    def fun2(self):\n",
    "        print('mona')\n",
    "x = parent()\n",
    "x.fun1()\n",
    "y = child()\n",
    "y.fun1()\n",
    "y.fun2()"
   ]
  },
  {
   "cell_type": "code",
   "execution_count": 42,
   "id": "7a550578",
   "metadata": {},
   "outputs": [
    {
     "name": "stdout",
     "output_type": "stream",
     "text": [
      "10\n",
      "600\n",
      "6141\n"
     ]
    }
   ],
   "source": [
    "class math():\n",
    "    def add(self,a,b):\n",
    "        print(a + b)\n",
    "class math2(math):\n",
    "    def multiplication(self,a,b):\n",
    "        print(a*b)\n",
    "x = math()\n",
    "x.add(2,8)\n",
    "y = math2()\n",
    "y.add(100,500)\n",
    "y.multiplication(89,69)"
   ]
  },
  {
   "attachments": {},
   "cell_type": "markdown",
   "id": "aab4ab40",
   "metadata": {},
   "source": [
    "MULTIPLE INHERITANCE"
   ]
  },
  {
   "attachments": {},
   "cell_type": "markdown",
   "id": "bd05fe15",
   "metadata": {},
   "source": [
    "Child class having access to all parent classes."
   ]
  },
  {
   "cell_type": "code",
   "execution_count": 60,
   "id": "839a61b7",
   "metadata": {},
   "outputs": [
    {
     "name": "stdout",
     "output_type": "stream",
     "text": [
      "name of father is R\n",
      "name of mother is M\n",
      "name of chid is RR\n"
     ]
    }
   ],
   "source": [
    "class father():\n",
    "    def fun1(self,a):\n",
    "        print('name of father is', a)\n",
    "class mother():\n",
    "    def fun2(self,b):\n",
    "        print('name of mother is', b)\n",
    "class child(father,mother):\n",
    "    def fun3(self,c):\n",
    "        print('name of chid is', c)\n",
    "x = father()\n",
    "y = mother()\n",
    "z = child()\n",
    "z.fun1('R')\n",
    "z.fun2('M')\n",
    "z.fun3('RR')"
   ]
  },
  {
   "cell_type": "code",
   "execution_count": 59,
   "id": "13cd21d7",
   "metadata": {},
   "outputs": [
    {
     "name": "stdout",
     "output_type": "stream",
     "text": [
      "constructor1\n",
      "name of father is R\n",
      "constructor2\n",
      "name of mother is M\n",
      "constructor1\n",
      "name of father is R\n",
      "name of mother is M\n",
      "name of chid is RR\n"
     ]
    }
   ],
   "source": [
    "class father():\n",
    "    def __init__(self):\n",
    "        print('constructor1')\n",
    "    def fun1(self,a):\n",
    "        print('name of father is', a)\n",
    "class mother():\n",
    "    def __init__(self):\n",
    "        print('constructor2')\n",
    "    def fun2(self,b):\n",
    "        print('name of mother is', b)\n",
    "class child(father,mother):\n",
    "    def fun3(self,c):\n",
    "        print('name of chid is', c)\n",
    "x = father()\n",
    "x.fun1('R')\n",
    "y = mother()\n",
    "y.fun2('M')\n",
    "z = child()\n",
    "z.fun1('R')\n",
    "z.fun2('M')\n",
    "z.fun3('RR')"
   ]
  },
  {
   "attachments": {},
   "cell_type": "markdown",
   "id": "53393f84",
   "metadata": {},
   "source": [
    "MULTILEVEL INHERITANCE"
   ]
  },
  {
   "cell_type": "code",
   "execution_count": 58,
   "id": "0c53086b",
   "metadata": {},
   "outputs": [
    {
     "name": "stdout",
     "output_type": "stream",
     "text": [
      "fk1\n",
      "fk2\n",
      "fk1\n",
      "fk2\n",
      "fk3\n"
     ]
    }
   ],
   "source": [
    "class grnd_pt():\n",
    "    def fun1(self):\n",
    "        print('fk1')\n",
    "class parent(grnd_pt):\n",
    "    def fun2(self):\n",
    "        print('fk2')\n",
    "class child(parent):\n",
    "    def fun3(self):\n",
    "        print('fk3')\n",
    "x = parent()\n",
    "y = child()\n",
    "x.fun1()\n",
    "x.fun2()\n",
    "y.fun1()\n",
    "y.fun2()\n",
    "y.fun3()"
   ]
  },
  {
   "attachments": {},
   "cell_type": "markdown",
   "id": "ff86c15c",
   "metadata": {},
   "source": [
    "HIERARCHICAL INHERITANCE"
   ]
  },
  {
   "cell_type": "code",
   "execution_count": 46,
   "id": "64d7a9ba",
   "metadata": {},
   "outputs": [
    {
     "name": "stdout",
     "output_type": "stream",
     "text": [
      "python\n",
      "python\n",
      "oops\n"
     ]
    }
   ],
   "source": [
    "class python():\n",
    "    def m1(self):\n",
    "        print('python')\n",
    "class basics(python):\n",
    "    def m2(self):\n",
    "        print('basics')\n",
    "class oops(python):\n",
    "    def m3(self):\n",
    "        print('oops')\n",
    "class numphy(python):\n",
    "    def m4(self):\n",
    "        print('numphy')\n",
    "x = python()\n",
    "x.m1()\n",
    "y = oops()\n",
    "y.m1()\n",
    "y.m3()"
   ]
  },
  {
   "attachments": {},
   "cell_type": "markdown",
   "id": "9a484d42",
   "metadata": {},
   "source": [
    "# ECAPSULATION"
   ]
  },
  {
   "attachments": {},
   "cell_type": "markdown",
   "id": "c5120ff5",
   "metadata": {},
   "source": [
    "Is the process of combining data members and methods of a class inside a protective wrapping"
   ]
  },
  {
   "attachments": {},
   "cell_type": "markdown",
   "id": "1db3b8e1",
   "metadata": {},
   "source": [
    "Provide security.\n",
    "\n",
    "to retrict the access to data or information to the outsiders."
   ]
  },
  {
   "cell_type": "code",
   "execution_count": 47,
   "id": "eeca98aa",
   "metadata": {},
   "outputs": [
    {
     "name": "stdout",
     "output_type": "stream",
     "text": [
      "10\n"
     ]
    }
   ],
   "source": [
    "class Encap():\n",
    "    a = 10\n",
    "    def display(self):\n",
    "        print('yo yo')\n",
    "x = Encap()\n",
    "print(x.a)"
   ]
  },
  {
   "cell_type": "code",
   "execution_count": 48,
   "id": "1d960d03",
   "metadata": {},
   "outputs": [
    {
     "name": "stdout",
     "output_type": "stream",
     "text": [
      "yo yo\n"
     ]
    }
   ],
   "source": [
    "x.display()"
   ]
  },
  {
   "cell_type": "code",
   "execution_count": 49,
   "id": "d775b55f",
   "metadata": {},
   "outputs": [
    {
     "ename": "AttributeError",
     "evalue": "'Encap' object has no attribute '__a'",
     "output_type": "error",
     "traceback": [
      "\u001b[0;31m---------------------------------------------------------------------------\u001b[0m",
      "\u001b[0;31mAttributeError\u001b[0m                            Traceback (most recent call last)",
      "\u001b[1;32m/Users/ritikramesh/Documents/Python/PYINT/CLASSES/GSWP.ipynb Cell 93\u001b[0m in \u001b[0;36m<cell line: 6>\u001b[0;34m()\u001b[0m\n\u001b[1;32m      <a href='vscode-notebook-cell:/Users/ritikramesh/Documents/Python/PYINT/CLASSES/GSWP.ipynb#Y161sZmlsZQ%3D%3D?line=3'>4</a>\u001b[0m         \u001b[39mprint\u001b[39m(\u001b[39m'\u001b[39m\u001b[39myo yo\u001b[39m\u001b[39m'\u001b[39m)\n\u001b[1;32m      <a href='vscode-notebook-cell:/Users/ritikramesh/Documents/Python/PYINT/CLASSES/GSWP.ipynb#Y161sZmlsZQ%3D%3D?line=4'>5</a>\u001b[0m x \u001b[39m=\u001b[39m Encap()\n\u001b[0;32m----> <a href='vscode-notebook-cell:/Users/ritikramesh/Documents/Python/PYINT/CLASSES/GSWP.ipynb#Y161sZmlsZQ%3D%3D?line=5'>6</a>\u001b[0m \u001b[39mprint\u001b[39m(x\u001b[39m.\u001b[39;49m__a)\n",
      "\u001b[0;31mAttributeError\u001b[0m: 'Encap' object has no attribute '__a'"
     ]
    }
   ],
   "source": [
    "class Encap():\n",
    "    __a = 10\n",
    "    def display(self):\n",
    "        print('yo yo')\n",
    "x = Encap()\n",
    "print(x.__a)            # __ makes variable/attribute private so that limited ones can access data."
   ]
  },
  {
   "attachments": {},
   "cell_type": "markdown",
   "id": "8014646c",
   "metadata": {},
   "source": [
    "data cannot be accessed outside of class"
   ]
  },
  {
   "attachments": {},
   "cell_type": "markdown",
   "id": "1c1f3d28",
   "metadata": {},
   "source": [
    "# ABSTRACTION"
   ]
  },
  {
   "attachments": {},
   "cell_type": "markdown",
   "id": "1c00fe05",
   "metadata": {},
   "source": [
    "hiding background complexities and only dealing with relevant information"
   ]
  },
  {
   "cell_type": "code",
   "execution_count": 50,
   "id": "9bda70e6",
   "metadata": {},
   "outputs": [],
   "source": [
    "from abc import ABC, abstractmethod"
   ]
  },
  {
   "cell_type": "code",
   "execution_count": 51,
   "id": "133400ce",
   "metadata": {},
   "outputs": [],
   "source": [
    "class sample(ABC):                      # abstract class\n",
    "    def abstractmethod(self):           #abstract method\n",
    "        pass"
   ]
  }
 ],
 "metadata": {
  "kernelspec": {
   "display_name": "Python 3",
   "language": "python",
   "name": "python3"
  },
  "language_info": {
   "codemirror_mode": {
    "name": "ipython",
    "version": 3
   },
   "file_extension": ".py",
   "mimetype": "text/x-python",
   "name": "python",
   "nbconvert_exporter": "python",
   "pygments_lexer": "ipython3",
   "version": "3.9.13"
  },
  "vscode": {
   "interpreter": {
    "hash": "1a1af0ee75eeea9e2e1ee996c87e7a2b11a0bebd85af04bb136d915cefc0abce"
   }
  }
 },
 "nbformat": 4,
 "nbformat_minor": 5
}
