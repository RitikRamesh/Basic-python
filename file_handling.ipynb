{
 "cells": [
  {
   "attachments": {},
   "cell_type": "markdown",
   "metadata": {},
   "source": [
    "# Open - opens a file\n",
    "\n",
    "# r - for opening a file in read mode only, no change can be made."
   ]
  },
  {
   "cell_type": "code",
   "execution_count": 3,
   "metadata": {},
   "outputs": [
    {
     "name": "stdout",
     "output_type": "stream",
     "text": [
      "Ritik Ramesh\n"
     ]
    }
   ],
   "source": [
    "file_name = open('string.txt','r')\n",
    "text = file_name.read()\n",
    "print(text)\n",
    "file_name.close()"
   ]
  },
  {
   "cell_type": "code",
   "execution_count": 2,
   "metadata": {},
   "outputs": [
    {
     "name": "stdout",
     "output_type": "stream",
     "text": [
      "Ritik Ramesh\n"
     ]
    }
   ],
   "source": [
    "file_name = open('string.txt', 'r')\n",
    "print(file_name.read())"
   ]
  },
  {
   "cell_type": "code",
   "execution_count": 8,
   "metadata": {},
   "outputs": [
    {
     "name": "stdout",
     "output_type": "stream",
     "text": [
      "hello ki haal chal.\n",
      "\n"
     ]
    }
   ],
   "source": [
    "file_name = open('hello.txt','r')\n",
    "text = file_name.readline()\n",
    "print(text)\n",
    "file_name.close()"
   ]
  },
  {
   "cell_type": "code",
   "execution_count": 9,
   "metadata": {},
   "outputs": [
    {
     "name": "stdout",
     "output_type": "stream",
     "text": [
      "['hello ki haal chal.\\n', 'this file is for testing purpose only.\\n', 'do not share this file with anyone.']\n"
     ]
    }
   ],
   "source": [
    "file_name = open('hello.txt','r')\n",
    "text = file_name.readlines()\n",
    "print(text)\n",
    "file_name.close()"
   ]
  },
  {
   "attachments": {},
   "cell_type": "markdown",
   "metadata": {},
   "source": [
    "# write - will create file if there isn't and change everything we want to.\n",
    "\n",
    "# append - will add anything in file"
   ]
  },
  {
   "cell_type": "code",
   "execution_count": 17,
   "metadata": {},
   "outputs": [],
   "source": [
    "file_name = open('hello.txt','a')\n",
    "file_name.write('\\nmabcdefghijk')\n",
    "file_name.close()"
   ]
  },
  {
   "cell_type": "code",
   "execution_count": 15,
   "metadata": {},
   "outputs": [],
   "source": [
    "file_name = open('hello.txt','w')\n",
    "file_name.write('asdfghjkl')\n",
    "file_name.close()"
   ]
  },
  {
   "attachments": {},
   "cell_type": "markdown",
   "metadata": {},
   "source": [
    "# delete - delete the file"
   ]
  },
  {
   "cell_type": "code",
   "execution_count": 2,
   "metadata": {},
   "outputs": [],
   "source": [
    "import os\n",
    "os.remove('hello.txt')"
   ]
  },
  {
   "attachments": {},
   "cell_type": "markdown",
   "metadata": {},
   "source": [
    "# opening a python file and print its data type."
   ]
  },
  {
   "cell_type": "code",
   "execution_count": 22,
   "metadata": {},
   "outputs": [
    {
     "name": "stdout",
     "output_type": "stream",
     "text": [
      "<class 'str'>\n"
     ]
    }
   ],
   "source": [
    "file_name = open('yo.py','r')\n",
    "text = file_name.read()\n",
    "print(type(text))"
   ]
  },
  {
   "cell_type": "code",
   "execution_count": 23,
   "metadata": {},
   "outputs": [],
   "source": [
    "import os\n",
    "os.remove('yo.py')"
   ]
  },
  {
   "attachments": {},
   "cell_type": "markdown",
   "metadata": {},
   "source": [
    "# open file and print upper and lower case."
   ]
  },
  {
   "cell_type": "code",
   "execution_count": 10,
   "metadata": {},
   "outputs": [
    {
     "name": "stdout",
     "output_type": "stream",
     "text": [
      "the count of lower: 9\n",
      "the count of lower: 2\n"
     ]
    }
   ],
   "source": [
    "file_name = open('string.txt', 'r')\n",
    "text = file_name.read()\n",
    "def lower_upper_count(text1):\n",
    "    count_lower = 0\n",
    "    count_upper = 0\n",
    "    for i in text1:\n",
    "        if i.isupper():\n",
    "            count_upper += 1\n",
    "        elif i.islower():\n",
    "            count_lower += 1\n",
    "    return count_lower,count_upper\n",
    "lo,up = lower_upper_count(text)\n",
    "print(f'the count of lower: {lo}')\n",
    "print(f'the count of lower: {up}')"
   ]
  }
 ],
 "metadata": {
  "kernelspec": {
   "display_name": "Python 3",
   "language": "python",
   "name": "python3"
  },
  "language_info": {
   "codemirror_mode": {
    "name": "ipython",
    "version": 3
   },
   "file_extension": ".py",
   "mimetype": "text/x-python",
   "name": "python",
   "nbconvert_exporter": "python",
   "pygments_lexer": "ipython3",
   "version": "3.9.13"
  },
  "orig_nbformat": 4
 },
 "nbformat": 4,
 "nbformat_minor": 2
}
