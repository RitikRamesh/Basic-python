{
 "cells": [
  {
   "attachments": {},
   "cell_type": "markdown",
   "metadata": {},
   "source": [
    "list ( we can store list, tuple, sets in list)"
   ]
  },
  {
   "cell_type": "code",
   "execution_count": 1,
   "metadata": {},
   "outputs": [
    {
     "name": "stdout",
     "output_type": "stream",
     "text": [
      "['apple', 'stawberry', 'cherry', 'grapes', 'litchi']\n"
     ]
    }
   ],
   "source": [
    "x = ['apple', 'berry', 'cherry', 'grapes', 'litchi']\n",
    "x[1] = 'stawberry'\n",
    "print(x)"
   ]
  },
  {
   "attachments": {},
   "cell_type": "markdown",
   "metadata": {},
   "source": [
    "To print list in list values"
   ]
  },
  {
   "cell_type": "code",
   "execution_count": 1,
   "metadata": {},
   "outputs": [
    {
     "name": "stdout",
     "output_type": "stream",
     "text": [
      "2\n"
     ]
    }
   ],
   "source": [
    "x = ['apple', 'berry', 'cherry', 'grapes', 'litchi',(1,2,3,4,5),(1,2,3,4,5)]\n",
    "x[1] = 'stawberry'\n",
    "print(x[-1][1])"
   ]
  },
  {
   "cell_type": "code",
   "execution_count": 3,
   "metadata": {},
   "outputs": [
    {
     "name": "stdout",
     "output_type": "stream",
     "text": [
      "['apple', 'berry', 'cherry', 'grapes', 'litchi', '1234']\n"
     ]
    }
   ],
   "source": [
    "x = ['apple', 'berry', 'cherry', 'grapes', 'litchi']\n",
    "x.append('1234')\n",
    "print(x)"
   ]
  },
  {
   "cell_type": "code",
   "execution_count": 3,
   "metadata": {},
   "outputs": [
    {
     "name": "stdout",
     "output_type": "stream",
     "text": [
      "['apple', 'berry', 'cherry', 'grapes', 'litchi', [1, 2, 3, 4], 1, 2, 3, 4]\n"
     ]
    }
   ],
   "source": [
    "x = ['apple', 'berry', 'cherry', 'grapes', 'litchi']\n",
    "x.append([1,2,3,4])\n",
    "x.extend([1,2,3,4])\n",
    "print(x)"
   ]
  },
  {
   "attachments": {},
   "cell_type": "markdown",
   "metadata": {},
   "source": [
    "sorting in list"
   ]
  },
  {
   "cell_type": "code",
   "execution_count": 5,
   "metadata": {},
   "outputs": [
    {
     "name": "stdout",
     "output_type": "stream",
     "text": [
      "['apple', 'berry', 'cherry', 'cherry', 'grapes', 'litchi']\n"
     ]
    }
   ],
   "source": [
    "x = ['apple', 'berry', 'cherry', 'grapes', 'litchi','cherry']\n",
    "x.sort()\n",
    "print(x)"
   ]
  },
  {
   "attachments": {},
   "cell_type": "markdown",
   "metadata": {},
   "source": [
    "tuples"
   ]
  },
  {
   "cell_type": "code",
   "execution_count": 6,
   "metadata": {},
   "outputs": [
    {
     "name": "stdout",
     "output_type": "stream",
     "text": [
      "('x', 'y', 'z', 'a', 'b', 'c')\n"
     ]
    }
   ],
   "source": [
    "names = ('x', 'y', 'z', 'a', 'b', 'c')\n",
    "print(names)"
   ]
  },
  {
   "attachments": {},
   "cell_type": "markdown",
   "metadata": {},
   "source": [
    "changing tuple into list"
   ]
  },
  {
   "cell_type": "code",
   "execution_count": 7,
   "metadata": {},
   "outputs": [
    {
     "name": "stdout",
     "output_type": "stream",
     "text": [
      "['x', 56, 'z', 'a', 'b', 'c']\n"
     ]
    }
   ],
   "source": [
    "names = ('x', 'y', 'z', 'a', 'b', 'c')\n",
    "lst = list(names)\n",
    "lst[1]= 56\n",
    "print(lst)"
   ]
  },
  {
   "attachments": {},
   "cell_type": "markdown",
   "metadata": {},
   "source": [
    "changing list into tuple"
   ]
  },
  {
   "cell_type": "code",
   "execution_count": 8,
   "metadata": {},
   "outputs": [
    {
     "name": "stdout",
     "output_type": "stream",
     "text": [
      "('x', 56, 'z', 'a', 'b', 'c')\n"
     ]
    }
   ],
   "source": [
    "names = ('x', 'y', 'z', 'a', 'b', 'c')\n",
    "lst = list(names)\n",
    "lst[1]= 56\n",
    "name = tuple(lst)\n",
    "print(name)"
   ]
  },
  {
   "attachments": {},
   "cell_type": "markdown",
   "metadata": {},
   "source": [
    "Q) Write a Python program to count the number of even and odd numbers in a list"
   ]
  },
  {
   "cell_type": "code",
   "execution_count": 18,
   "metadata": {},
   "outputs": [
    {
     "name": "stdout",
     "output_type": "stream",
     "text": [
      "Odd count :  1\n",
      "Even count :  1\n",
      "Odd count :  2\n",
      "Even count :  2\n",
      "Odd count :  3\n",
      "Even count :  3\n",
      "Odd count :  4\n",
      "Even count :  4\n",
      "Odd count :  5\n",
      "Even count :  5\n"
     ]
    }
   ],
   "source": [
    "num = [1, 2, 3, 4, 5, 6, 7, 8, 9, 10]\n",
    "even_num = 0\n",
    "odd_num = 0\n",
    "for i in num:\n",
    "    if i%2 == 0:\n",
    "        even_num += 1\n",
    "        print('Even count : ', even_num)\n",
    "    else:\n",
    "        odd_num += 1\n",
    "        print('Odd count : ', odd_num)"
   ]
  },
  {
   "cell_type": "code",
   "execution_count": 11,
   "metadata": {},
   "outputs": [
    {
     "name": "stdout",
     "output_type": "stream",
     "text": [
      "Odd count :  5\n",
      "Even count :  5\n"
     ]
    }
   ],
   "source": [
    "num = [1, 2, 3, 4, 5, 6, 7, 8, 9, 10]\n",
    "even_num = 0\n",
    "odd_num = 0\n",
    "for i in num:\n",
    "    if i%2 == 0:\n",
    "        even_num += 1\n",
    "    else:\n",
    "        odd_num += 1\n",
    "print('Odd count : ', odd_num)\n",
    "print('Even count : ', even_num)"
   ]
  },
  {
   "attachments": {},
   "cell_type": "markdown",
   "metadata": {},
   "source": [
    "we can create list with help of for loop as well"
   ]
  },
  {
   "attachments": {},
   "cell_type": "markdown",
   "metadata": {},
   "source": [
    "syntax : (print variable) for (variable) in range(range value from, range value to, steps to be skipped or jump)"
   ]
  },
  {
   "cell_type": "code",
   "execution_count": 1,
   "metadata": {},
   "outputs": [
    {
     "name": "stdout",
     "output_type": "stream",
     "text": [
      "[1, 2, 3, 4, 5, 6, 7, 8, 9, 10, 11, 12, 13, 14, 15, 16, 17, 18, 19]\n"
     ]
    }
   ],
   "source": [
    "lst = [x for x in range(1,20)]\n",
    "print(lst)"
   ]
  },
  {
   "attachments": {},
   "cell_type": "markdown",
   "metadata": {},
   "source": [
    "\n",
    "or"
   ]
  },
  {
   "cell_type": "code",
   "execution_count": 4,
   "metadata": {},
   "outputs": [
    {
     "name": "stdout",
     "output_type": "stream",
     "text": [
      "[1, 2, 3, 4, 5, 6, 7, 8, 9, 10, 11, 12, 13, 14, 15, 16, 17, 18, 19]\n"
     ]
    }
   ],
   "source": [
    "lst = []\n",
    "for i in range (1,20):\n",
    "    lst.append(i)\n",
    "print(lst)"
   ]
  },
  {
   "attachments": {},
   "cell_type": "markdown",
   "metadata": {},
   "source": [
    "converting string to list"
   ]
  },
  {
   "cell_type": "code",
   "execution_count": 6,
   "metadata": {},
   "outputs": [
    {
     "name": "stdout",
     "output_type": "stream",
     "text": [
      "['Sukhdeep', 'Sachdeva', 'Ritik', 'Diksha', 'Simran']\n"
     ]
    }
   ],
   "source": [
    "name = 'Sukhdeep Sachdeva Ritik Diksha Simran'\n",
    "lst = name.split()\n",
    "print(lst)"
   ]
  },
  {
   "attachments": {},
   "cell_type": "markdown",
   "metadata": {},
   "source": [
    "if the spaces are filled with character like $ then add that character in split(by default it is space)"
   ]
  },
  {
   "cell_type": "code",
   "execution_count": 7,
   "metadata": {},
   "outputs": [
    {
     "name": "stdout",
     "output_type": "stream",
     "text": [
      "['Sukhdeep', 'Sachdeva', 'Ritik', 'Diksha', 'Simran']\n"
     ]
    }
   ],
   "source": [
    "name = 'Sukhdeep$Sachdeva$Ritik$Diksha$Simran'\n",
    "lst = name.split('$')\n",
    "print(lst)"
   ]
  },
  {
   "attachments": {},
   "cell_type": "markdown",
   "metadata": {},
   "source": [
    "if want to convert list to string"
   ]
  },
  {
   "cell_type": "code",
   "execution_count": 28,
   "metadata": {},
   "outputs": [
    {
     "name": "stdout",
     "output_type": "stream",
     "text": [
      "Sukhdeep Sachdeva Ritik Diksha Simran\n"
     ]
    }
   ],
   "source": [
    "lst = ['Sukhdeep', 'Sachdeva', 'Ritik', 'Diksha', 'Simran']\n",
    "string = ' '.join(lst)\n",
    "print(string)"
   ]
  },
  {
   "attachments": {},
   "cell_type": "markdown",
   "metadata": {},
   "source": [
    "SETS \n",
    "unordered,\n",
    "immutable,\n",
    "doesn't allow duplicates\n",
    "used in {}. "
   ]
  },
  {
   "attachments": {},
   "cell_type": "markdown",
   "metadata": {},
   "source": [
    "indexing can't be used. hashing is used b/c indexing is slow."
   ]
  },
  {
   "cell_type": "code",
   "execution_count": 18,
   "metadata": {},
   "outputs": [
    {
     "name": "stdout",
     "output_type": "stream",
     "text": [
      "1.2\n",
      "34\n",
      "dsd\n"
     ]
    }
   ],
   "source": [
    "s = {'dsd', 34, 1.2}\n",
    "for i in s:\n",
    "    print(i)"
   ]
  },
  {
   "cell_type": "code",
   "execution_count": 19,
   "metadata": {},
   "outputs": [
    {
     "name": "stdout",
     "output_type": "stream",
     "text": [
      "{1, 2, 3, 71, 12, 45, 23}\n"
     ]
    }
   ],
   "source": [
    "lst = [1,23,23,45,12,1,71,2,3,3,23]\n",
    "x = set(lst)\n",
    "print(x)"
   ]
  },
  {
   "cell_type": "code",
   "execution_count": 20,
   "metadata": {},
   "outputs": [
    {
     "name": "stdout",
     "output_type": "stream",
     "text": [
      "[1, 2, 3, 71, 12, 45, 23]\n"
     ]
    }
   ],
   "source": [
    "lst = [1,23,23,45,12,1,71,2,3,3,23]\n",
    "x = list(set(lst))\n",
    "print(x)"
   ]
  },
  {
   "cell_type": "code",
   "execution_count": 21,
   "metadata": {},
   "outputs": [
    {
     "name": "stdout",
     "output_type": "stream",
     "text": [
      "{1, 3, 5, 7, 9, 11, 12, 13, 17, 19, 56}\n"
     ]
    }
   ],
   "source": [
    "set1 = {1,3,5,7}\n",
    "set2 = {9,11,13,17,19}\n",
    "set3 = {12,11,56}\n",
    "set1 = set1.union(set2.union(set3))\n",
    "print(set1)"
   ]
  },
  {
   "attachments": {},
   "cell_type": "markdown",
   "metadata": {},
   "source": [
    "PRIME NUMBERS"
   ]
  },
  {
   "cell_type": "code",
   "execution_count": 2,
   "metadata": {},
   "outputs": [
    {
     "name": "stdout",
     "output_type": "stream",
     "text": [
      "2\n",
      "3\n",
      "5\n",
      "7\n",
      "11\n",
      "13\n",
      "17\n",
      "19\n",
      "23\n",
      "29\n",
      "31\n",
      "37\n",
      "41\n",
      "43\n",
      "47\n",
      "53\n",
      "59\n",
      "61\n",
      "67\n",
      "71\n",
      "73\n",
      "79\n",
      "83\n",
      "89\n",
      "97\n"
     ]
    }
   ],
   "source": [
    "for num in range(2,101):\n",
    "    for i in range(2,101):\n",
    "        if num % i == 0:\n",
    "            break\n",
    "    if num == i:\n",
    "        print(i)\n",
    "        # x = str(i)\n",
    "        # y=list(x)"
   ]
  },
  {
   "cell_type": "code",
   "execution_count": 32,
   "metadata": {},
   "outputs": [
    {
     "name": "stdout",
     "output_type": "stream",
     "text": [
      "['2', 2]\n",
      "['3', 3]\n",
      "['5', 5]\n",
      "['7', 7]\n",
      "['1', '1', 11]\n",
      "['1', '3', 13]\n",
      "['1', '7', 17]\n",
      "['1', '9', 19]\n",
      "['2', '3', 23]\n",
      "['2', '9', 29]\n",
      "['3', '1', 31]\n",
      "['3', '7', 37]\n",
      "['4', '1', 41]\n",
      "['4', '3', 43]\n",
      "['4', '7', 47]\n",
      "['5', '3', 53]\n",
      "['5', '9', 59]\n",
      "['6', '1', 61]\n",
      "['6', '7', 67]\n",
      "['7', '1', 71]\n",
      "['7', '3', 73]\n",
      "['7', '9', 79]\n",
      "['8', '3', 83]\n",
      "['8', '9', 89]\n",
      "['9', '7', 97]\n"
     ]
    }
   ],
   "source": [
    "x = []\n",
    "for x in range(2,101):\n",
    "    for i in range(2,101):\n",
    "        if x % i == 0:\n",
    "            break\n",
    "    if x == i:\n",
    "        # y = str(i)\n",
    "        z = list(str(x))\n",
    "        z.append(x)\n",
    "        print(z)"
   ]
  },
  {
   "cell_type": "code",
   "execution_count": 24,
   "metadata": {},
   "outputs": [
    {
     "name": "stdout",
     "output_type": "stream",
     "text": [
      "[] () {}\n",
      "<class 'list'> <class 'tuple'> <class 'dict'>\n"
     ]
    }
   ],
   "source": [
    "x = []\n",
    "y = ()\n",
    "z = {}\n",
    "print(x,y,z)\n",
    "print(type(x),type(y),type(z))"
   ]
  },
  {
   "attachments": {},
   "cell_type": "markdown",
   "metadata": {},
   "source": [
    "DICTIONARY"
   ]
  },
  {
   "attachments": {},
   "cell_type": "markdown",
   "metadata": {},
   "source": [
    "ordered, hashing is used here, mutable, duplicates are not allowed"
   ]
  },
  {
   "attachments": {},
   "cell_type": "markdown",
   "metadata": {},
   "source": [
    "'key' will always be string, : used to define values, values"
   ]
  },
  {
   "cell_type": "code",
   "execution_count": 29,
   "metadata": {},
   "outputs": [
    {
     "name": "stdout",
     "output_type": "stream",
     "text": [
      "23\n"
     ]
    }
   ],
   "source": [
    "my_self = {\n",
    "    'name' : 'ritik ramesh',\n",
    "    'age' : 23,\n",
    "    'role' : 'student'\n",
    "}\n",
    "print(my_self['age'])"
   ]
  },
  {
   "cell_type": "code",
   "execution_count": 30,
   "metadata": {},
   "outputs": [
    {
     "name": "stdout",
     "output_type": "stream",
     "text": [
      "23\n",
      "12\n"
     ]
    }
   ],
   "source": [
    "my_self = {\n",
    "    'name' : 'ritik ramesh',\n",
    "    'age' : 23,\n",
    "    'role' : 'student'\n",
    "}\n",
    "print(my_self['age'])\n",
    "my_self['age'] = 12\n",
    "print(my_self['age'])"
   ]
  },
  {
   "cell_type": "code",
   "execution_count": 31,
   "metadata": {},
   "outputs": [
    {
     "name": "stdout",
     "output_type": "stream",
     "text": [
      "ritik ramesh\n",
      "23\n",
      "student\n"
     ]
    }
   ],
   "source": [
    "my_self = {\n",
    "    'name' : 'ritik ramesh',\n",
    "    'age' : 23,\n",
    "    'role' : 'student'\n",
    "}\n",
    "for i in my_self.values():\n",
    "    print(i)"
   ]
  },
  {
   "cell_type": "code",
   "execution_count": 33,
   "metadata": {},
   "outputs": [
    {
     "name": "stdout",
     "output_type": "stream",
     "text": [
      "('name', 'ritik ramesh')\n",
      "('age', 23)\n",
      "('role', 'student')\n"
     ]
    }
   ],
   "source": [
    "my_self = {\n",
    "    'name' : 'ritik ramesh',\n",
    "    'age' : 23,\n",
    "    'role' : 'student'\n",
    "}\n",
    "for i in my_self.items():\n",
    "    print(i)"
   ]
  },
  {
   "cell_type": "code",
   "execution_count": 53,
   "metadata": {},
   "outputs": [
    {
     "name": "stdout",
     "output_type": "stream",
     "text": [
      "80\n"
     ]
    }
   ],
   "source": [
    "sampleDict = {\n",
    "    \"class\": {\n",
    "        \"student\": {\n",
    "            \"name\": \"Mike\",\n",
    "            \"marks\": {\n",
    "                \"physics\": 70,\n",
    "                \"history\": 80\n",
    "            }\n",
    "        }\n",
    "    }\n",
    "}\n",
    "m = sampleDict['class']['student']['marks']['history']\n",
    "print(m)"
   ]
  },
  {
   "cell_type": "code",
   "execution_count": 1,
   "metadata": {},
   "outputs": [
    {
     "name": "stdout",
     "output_type": "stream",
     "text": [
      "{'name': 'ritik ramesh', 'role': 'student', 'age': 23}\n"
     ]
    }
   ],
   "source": [
    "keys = ['name' , 'role', 'age']\n",
    "values = ['ritik ramesh','student', 23]\n",
    "new_dict = {}\n",
    "for i in range(len(keys)):\n",
    "    new_dict[keys[i]] = values[i]\n",
    "print(new_dict)"
   ]
  },
  {
   "cell_type": "code",
   "execution_count": 48,
   "metadata": {},
   "outputs": [
    {
     "name": "stdout",
     "output_type": "stream",
     "text": [
      "{'Ten': 10, 'Twenty': 20, 'Thirty': 30, 'Fourty': 40, 'Fifty': 50}\n"
     ]
    }
   ],
   "source": [
    "dict1 = {'Ten': 10, 'Twenty': 20, 'Thirty': 30}\n",
    "dict2 = {'Thirty': 30, 'Fourty': 40, 'Fifty': 50}\n",
    "dict1.update(dict2)\n",
    "print(dict1)"
   ]
  },
  {
   "cell_type": "code",
   "execution_count": 2,
   "metadata": {},
   "outputs": [
    {
     "name": "stdout",
     "output_type": "stream",
     "text": [
      "{'Ten': 10, 'Twenty': 20, 'Thirty': 30, 'Fourty': 40, 'Fifty': 50}\n"
     ]
    }
   ],
   "source": [
    "dict1 = {'Ten': 10, 'Twenty': 20, 'Thirty': 30}\n",
    "dict2 = {'Thirty': 30, 'Fourty': 40, 'Fifty': 50}\n",
    "for i in dict2:\n",
    "    dict1[i] = dict2[i]\n",
    "print(dict1)"
   ]
  },
  {
   "attachments": {},
   "cell_type": "markdown",
   "metadata": {},
   "source": [
    "PIPE(|) can also be used to concatenate"
   ]
  },
  {
   "cell_type": "code",
   "execution_count": 4,
   "metadata": {},
   "outputs": [
    {
     "data": {
      "text/plain": [
       "{'Ten': 10, 'Twenty': 20, 'Thirty': 30, 'Fourty': 40, 'Fifty': 50}"
      ]
     },
     "execution_count": 4,
     "metadata": {},
     "output_type": "execute_result"
    }
   ],
   "source": [
    "dict1 = {'Ten': 10, 'Twenty': 20, 'Thirty': 30}\n",
    "dict2 = {'Thirty': 30, 'Fourty': 40, 'Fifty': 50}\n",
    "print(dict1 | dict2)"
   ]
  },
  {
   "attachments": {},
   "cell_type": "markdown",
   "metadata": {},
   "source": [
    "Q)hello\n",
    "\n",
    "hhheeelllooo"
   ]
  },
  {
   "cell_type": "code",
   "execution_count": 25,
   "metadata": {},
   "outputs": [
    {
     "name": "stdout",
     "output_type": "stream",
     "text": [
      "rrriiitttiiikkk\n"
     ]
    }
   ],
   "source": [
    "string = input(\"Enter a string: \")\n",
    "output = \"\"\n",
    "\n",
    "for char in string:\n",
    "    output += char * 3\n",
    "\n",
    "print(output)"
   ]
  },
  {
   "attachments": {},
   "cell_type": "markdown",
   "metadata": {},
   "source": [
    "FUNCTIONS"
   ]
  },
  {
   "attachments": {},
   "cell_type": "markdown",
   "metadata": {},
   "source": [
    "defining a function"
   ]
  },
  {
   "cell_type": "code",
   "execution_count": 5,
   "metadata": {},
   "outputs": [],
   "source": [
    "def prt_nm():\n",
    "    print('ritik')"
   ]
  },
  {
   "attachments": {},
   "cell_type": "markdown",
   "metadata": {},
   "source": [
    "calling a function"
   ]
  },
  {
   "cell_type": "code",
   "execution_count": 8,
   "metadata": {},
   "outputs": [
    {
     "name": "stdout",
     "output_type": "stream",
     "text": [
      "ritik\n"
     ]
    }
   ],
   "source": [
    "def prt_nm():\n",
    "    print('ritik')\n",
    "prt_nm()"
   ]
  },
  {
   "cell_type": "code",
   "execution_count": 10,
   "metadata": {},
   "outputs": [
    {
     "name": "stdout",
     "output_type": "stream",
     "text": [
      "30\n"
     ]
    }
   ],
   "source": [
    "def sum():\n",
    "    a = 12\n",
    "    b = 18\n",
    "    c = a + b\n",
    "    print(c)\n",
    "sum()"
   ]
  },
  {
   "attachments": {},
   "cell_type": "markdown",
   "metadata": {},
   "source": [
    "RETURN"
   ]
  },
  {
   "cell_type": "code",
   "execution_count": 11,
   "metadata": {},
   "outputs": [
    {
     "name": "stdout",
     "output_type": "stream",
     "text": [
      "30\n"
     ]
    }
   ],
   "source": [
    "def sum():\n",
    "    a = 12\n",
    "    b = 18\n",
    "    c = a + b\n",
    "    return c\n",
    "x = sum()\n",
    "print(x)"
   ]
  },
  {
   "attachments": {},
   "cell_type": "markdown",
   "metadata": {},
   "source": [
    "ARGUMENTS AND PARAMETERS"
   ]
  },
  {
   "cell_type": "code",
   "execution_count": 15,
   "metadata": {},
   "outputs": [
    {
     "name": "stdout",
     "output_type": "stream",
     "text": [
      "90\n"
     ]
    }
   ],
   "source": [
    "def sum(a,b):\n",
    "    num1 = a\n",
    "    num2 = b\n",
    "    result = num1 + num2\n",
    "    return result\n",
    "x = sum(59,31)\n",
    "print(x)"
   ]
  },
  {
   "cell_type": "code",
   "execution_count": 3,
   "metadata": {},
   "outputs": [
    {
     "name": "stdout",
     "output_type": "stream",
     "text": [
      "100\n"
     ]
    }
   ],
   "source": [
    "def sum(a,b):\n",
    "    c = a + b\n",
    "    return c\n",
    "x = sum(54,46)\n",
    "print(x)"
   ]
  },
  {
   "cell_type": "code",
   "execution_count": 24,
   "metadata": {},
   "outputs": [
    {
     "name": "stdout",
     "output_type": "stream",
     "text": [
      "ritik ramesh\n"
     ]
    }
   ],
   "source": [
    "def concat(a,b):\n",
    "    c = str(a) + str(b)\n",
    "    return c\n",
    "x = concat('ritik ','ramesh')\n",
    "print(x)"
   ]
  },
  {
   "attachments": {},
   "cell_type": "markdown",
   "metadata": {},
   "source": [
    "Given two integers, return True if the Sum of the integers is 20 or if one of the integers is 20. if not, return False."
   ]
  },
  {
   "cell_type": "code",
   "execution_count": 46,
   "metadata": {},
   "outputs": [
    {
     "data": {
      "text/plain": [
       "True"
      ]
     },
     "execution_count": 46,
     "metadata": {},
     "output_type": "execute_result"
    }
   ],
   "source": [
    "def sum(a,b):\n",
    "    if (a == 0 and b == 20) and (a == 20 and b == 0):\n",
    "        return True\n",
    "    elif a + b == 20:\n",
    "        return True\n",
    "    else:\n",
    "        return False\n",
    "sum(int(input('enter 1st no. ')),int(input('enter 2nd no. ')))"
   ]
  },
  {
   "cell_type": "code",
   "execution_count": 2,
   "metadata": {},
   "outputs": [
    {
     "data": {
      "text/plain": [
       "True"
      ]
     },
     "execution_count": 2,
     "metadata": {},
     "output_type": "execute_result"
    }
   ],
   "source": [
    "def sum(a,b):\n",
    "    if (a == 0 or b == 20) or (a == 20 or b == 0):\n",
    "        return True\n",
    "    elif a + b == 20:\n",
    "        return True\n",
    "    else:\n",
    "        return False\n",
    "sum(int(input('enter 1st no. ')),int(input('enter 2nd no. ')))"
   ]
  },
  {
   "cell_type": "code",
   "execution_count": 4,
   "metadata": {},
   "outputs": [
    {
     "name": "stdout",
     "output_type": "stream",
     "text": [
      "False\n"
     ]
    }
   ],
   "source": [
    "def sum(a,b):\n",
    "    if a == 20 or b == 20 or (a + b) == 20:\n",
    "        return True\n",
    "    else:\n",
    "        return False\n",
    "print(sum(int(input('value =')),int(input('value ='))))"
   ]
  },
  {
   "attachments": {},
   "cell_type": "markdown",
   "metadata": {},
   "source": [
    "global level scope/variable - variable defined outside of functions\n",
    "\n",
    "local level scope/variable - stores variable in functions"
   ]
  },
  {
   "attachments": {},
   "cell_type": "markdown",
   "metadata": {},
   "source": [
    "MODULES"
   ]
  },
  {
   "attachments": {},
   "cell_type": "markdown",
   "metadata": {},
   "source": [
    "A file containing a set of functions you want to include in your application."
   ]
  },
  {
   "cell_type": "code",
   "execution_count": 5,
   "metadata": {},
   "outputs": [
    {
     "name": "stdout",
     "output_type": "stream",
     "text": [
      "2023-03-02 16:24:24.498684\n"
     ]
    }
   ],
   "source": [
    "import datetime\n",
    "print(datetime.datetime.now())"
   ]
  },
  {
   "cell_type": "code",
   "execution_count": 6,
   "metadata": {},
   "outputs": [
    {
     "name": "stdout",
     "output_type": "stream",
     "text": [
      "2023-03-02 16:25:12.892634\n"
     ]
    }
   ],
   "source": [
    "from datetime import datetime\n",
    "print(datetime.now())"
   ]
  },
  {
   "cell_type": "code",
   "execution_count": 1,
   "metadata": {},
   "outputs": [
    {
     "name": "stdout",
     "output_type": "stream",
     "text": [
      "the count of lower: 9\n",
      "the count of lower: 2\n"
     ]
    }
   ],
   "source": [
    "def lower_upper_count(text):\n",
    "    count_lower = 0\n",
    "    count_upper = 0\n",
    "    for i in text:\n",
    "        if i.isupper():\n",
    "            count_upper += 1\n",
    "        elif i.islower():\n",
    "            count_lower += 1\n",
    "    return count_lower,count_upper\n",
    "lo,up = lower_upper_count(input('enter string/script :'))\n",
    "print(f'the count of lower: {lo}')\n",
    "print(f'the count of lower: {up}')"
   ]
  },
  {
   "attachments": {},
   "cell_type": "markdown",
   "metadata": {},
   "source": [
    "# FOR MAKING PATTERNS"
   ]
  },
  {
   "cell_type": "code",
   "execution_count": 3,
   "metadata": {},
   "outputs": [
    {
     "name": "stdout",
     "output_type": "stream",
     "text": [
      "\n",
      "*\n",
      "**\n",
      "***\n",
      "****\n"
     ]
    }
   ],
   "source": [
    "for i in range(5):\n",
    "    print('*' *i)"
   ]
  },
  {
   "cell_type": "code",
   "execution_count": 4,
   "metadata": {},
   "outputs": [
    {
     "name": "stdout",
     "output_type": "stream",
     "text": [
      "\n",
      "1\n",
      "22\n",
      "333\n",
      "4444\n"
     ]
    }
   ],
   "source": [
    "for i in range(5):\n",
    "    print(f'{i}'*i)"
   ]
  },
  {
   "cell_type": "code",
   "execution_count": 2,
   "metadata": {},
   "outputs": [
    {
     "name": "stdout",
     "output_type": "stream",
     "text": [
      "\n",
      "1\n",
      "22\n",
      "333\n",
      "4444\n",
      "55555\n",
      "666666\n",
      "7777777\n",
      "88888888\n",
      "999999999\n"
     ]
    }
   ],
   "source": [
    "for i in range(10):\n",
    "    print(f'{i}'*i)"
   ]
  },
  {
   "cell_type": "code",
   "execution_count": 6,
   "metadata": {},
   "outputs": [
    {
     "name": "stdout",
     "output_type": "stream",
     "text": [
      "          \n",
      "          1\n",
      "         2 2\n",
      "        3 3 3\n",
      "       4 4 4 4\n",
      "      5 5 5 5 5\n",
      "     6 6 6 6 6 6\n",
      "    7 7 7 7 7 7 7\n",
      "   8 8 8 8 8 8 8 8\n",
      "  9 9 9 9 9 9 9 9 9\n"
     ]
    }
   ],
   "source": [
    "for i in range(10):\n",
    "    print(' '*(10-i) + f' {i}'*i)"
   ]
  },
  {
   "attachments": {},
   "cell_type": "markdown",
   "metadata": {},
   "source": [
    "Write a Python function to find the maximum and minimum number in a list."
   ]
  },
  {
   "cell_type": "code",
   "execution_count": 6,
   "metadata": {},
   "outputs": [
    {
     "name": "stdout",
     "output_type": "stream",
     "text": [
      "Maximum no. in list is : 989\n",
      "Maximum no. in list is : 8\n"
     ]
    }
   ],
   "source": [
    "def max_min(num):\n",
    "    max_num,min_num = num[0],num[0]\n",
    "    for i in num:\n",
    "        if i > max_num:\n",
    "            max_num = i\n",
    "        elif i < min_num:\n",
    "            min_num = i\n",
    "    return max_num,min_num\n",
    "num = [112,342,23,44,25,16,79,8,989,101]\n",
    "max_num, min_num = max_min(num)\n",
    "print('Maximum no. in list is :',max_num)\n",
    "print('Maximum no. in list is :',min_num)"
   ]
  },
  {
   "cell_type": "code",
   "execution_count": 10,
   "metadata": {},
   "outputs": [
    {
     "name": "stdout",
     "output_type": "stream",
     "text": [
      "Maximum no. in list is : 8\n",
      "Maximum no. in list is : 989\n"
     ]
    }
   ],
   "source": [
    "def max_min(num):\n",
    "    num.sort()\n",
    "    return num[0],num[-1]\n",
    "num = [112,342,23,44,25,16,79,8,989,101]\n",
    "max_num, min_num = max_min(num)\n",
    "print('Maximum no. in list is :',max_num)\n",
    "print('Maximum no. in list is :',min_num)"
   ]
  },
  {
   "cell_type": "code",
   "execution_count": 28,
   "metadata": {},
   "outputs": [
    {
     "name": "stdout",
     "output_type": "stream",
     "text": [
      "          \n",
      "         *\n",
      "        **\n",
      "       ***\n",
      "      ****\n",
      "     *****\n",
      "    ******\n",
      "   *******\n",
      "  ********\n",
      " *********\n"
     ]
    }
   ],
   "source": [
    "for i in range(10):\n",
    "    print(' ' *(10-i) + '*' *i)"
   ]
  }
 ],
 "metadata": {
  "kernelspec": {
   "display_name": "Python 3",
   "language": "python",
   "name": "python3"
  },
  "language_info": {
   "codemirror_mode": {
    "name": "ipython",
    "version": 3
   },
   "file_extension": ".py",
   "mimetype": "text/x-python",
   "name": "python",
   "nbconvert_exporter": "python",
   "pygments_lexer": "ipython3",
   "version": "3.11.2"
  },
  "orig_nbformat": 4,
  "vscode": {
   "interpreter": {
    "hash": "1a1af0ee75eeea9e2e1ee996c87e7a2b11a0bebd85af04bb136d915cefc0abce"
   }
  }
 },
 "nbformat": 4,
 "nbformat_minor": 2
}
