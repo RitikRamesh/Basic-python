{
 "cells": [
  {
   "attachments": {},
   "cell_type": "markdown",
   "metadata": {},
   "source": [
    "Oops - object oriented programming"
   ]
  },
  {
   "cell_type": "markdown",
   "metadata": {},
   "source": [
    "CLASS "
   ]
  },
  {
   "attachments": {},
   "cell_type": "markdown",
   "metadata": {},
   "source": [
    "class is like an object constructor, or a 'blueprint' for creating objects\n",
    "\n",
    "behaviour of class: function present inside of class are behaviour of class."
   ]
  },
  {
   "cell_type": "markdown",
   "metadata": {},
   "source": [
    "objects:\n",
    "i) attribute -  data/properties\n",
    "ii) behaviour - functions"
   ]
  },
  {
   "attachments": {},
   "cell_type": "markdown",
   "metadata": {},
   "source": [
    "classes - design\n",
    "\n",
    "objects - real world entity"
   ]
  },
  {
   "cell_type": "markdown",
   "metadata": {},
   "source": [
    "CREATING CLASS"
   ]
  },
  {
   "cell_type": "markdown",
   "metadata": {},
   "source": [
    "syntax :\n",
    "class class_name():"
   ]
  },
  {
   "cell_type": "code",
   "execution_count": 3,
   "metadata": {},
   "outputs": [
    {
     "name": "stdout",
     "output_type": "stream",
     "text": [
      "tommy\n",
      "6\n"
     ]
    }
   ],
   "source": [
    "class Dog():\n",
    "    name = 'tommy'\n",
    "    age = '6'\n",
    "wolf = Dog()\n",
    "print(wolf.name)\n",
    "print(wolf.age)"
   ]
  },
  {
   "cell_type": "code",
   "execution_count": 4,
   "metadata": {},
   "outputs": [
    {
     "name": "stdout",
     "output_type": "stream",
     "text": [
      "tommy\n"
     ]
    }
   ],
   "source": [
    "class Dog():\n",
    "    name = 'tommy'\n",
    "    age = '6'\n",
    "wolf = Dog()\n",
    "wolf2 = Dog()\n",
    "print(wolf2.name)\n"
   ]
  },
  {
   "cell_type": "markdown",
   "metadata": {},
   "source": [
    "CONSTRUCTORS -  a special function which gets called when the object is created."
   ]
  },
  {
   "cell_type": "markdown",
   "metadata": {},
   "source": [
    "syntax:\n",
    "(doubleunderscore)init(doubleunderscore)"
   ]
  },
  {
   "cell_type": "code",
   "execution_count": 8,
   "metadata": {},
   "outputs": [
    {
     "name": "stdout",
     "output_type": "stream",
     "text": [
      "4\n"
     ]
    }
   ],
   "source": [
    "class Cat():\n",
    "    def __init__(self,name,age,breed):\n",
    "        self.name = name\n",
    "        self.age = age\n",
    "        self.breed = breed\n",
    "Catty = Cat('Bhangad Bila',6,'Persian')\n",
    "Catty = Cat('Bhangad Bila',4,'Persian')\n",
    "Kitty = Cat('Mithilesh',3,'Persian')\n",
    "Kitten = Cat('Karen',10,'Persian')\n",
    "print(Catty.age)"
   ]
  },
  {
   "cell_type": "code",
   "execution_count": 12,
   "metadata": {},
   "outputs": [
    {
     "name": "stdout",
     "output_type": "stream",
     "text": [
      "4\n",
      "Hello, I am a Cat my name is {self.name} meow meow\n",
      "Hello, I am a Cat my name is {self.name} meow meow\n",
      "Hello, I am a Cat my name is {self.name} meow meow\n"
     ]
    }
   ],
   "source": [
    "class Cat():\n",
    "    def __init__(self,name,age,breed):\n",
    "        self.name = name\n",
    "        self.age = age\n",
    "        self.breed = breed\n",
    "    def speak(self):\n",
    "        print('Hello, I am a Cat my name is {self.name} meow meow')\n",
    "Catty = Cat('Bhangad Bila',6,'Persian')\n",
    "Catty = Cat('Bhangad Bila',4,'Persian')\n",
    "Kitty = Cat('Mithilesh',3,'Persian')\n",
    "Kitten = Cat('Karen',10,'Persian')\n",
    "print(Catty.age)\n",
    "Catty.speak()\n",
    "Kitten.speak()\n",
    "Kitty.speak()"
   ]
  },
  {
   "cell_type": "code",
   "execution_count": 3,
   "metadata": {},
   "outputs": [
    {
     "name": "stdout",
     "output_type": "stream",
     "text": [
      "4\n",
      "Hello, I am a Cat my name is Bhangad Bila meow meow\n",
      "Hello, I am a Cat my name is Karen meow meow\n",
      "Hello, I am a Cat my name is Mithilesh meow meow\n",
      "Cat\n",
      "Cat\n"
     ]
    }
   ],
   "source": [
    "class Cat():\n",
    "    type_of_animal = 'Cat'\n",
    "    def __init__(self,name,age,breed):\n",
    "        self.name = name\n",
    "        self.age = age\n",
    "        self.breed = breed\n",
    "    def speak(self):\n",
    "        print(f'Hello, I am a {self.type_of_animal} my name is {self.name} meow meow')\n",
    "Catty = Cat('Bhangad Bila',6,'Persian')\n",
    "Catty = Cat('Bhangad Bila',4,'Persian')\n",
    "Kitty = Cat('Mithilesh',3,'Persian')\n",
    "Kitten = Cat('Karen',10,'Persian')\n",
    "print(Catty.age)\n",
    "Catty.speak()\n",
    "Kitten.speak()\n",
    "Kitty.speak()\n",
    "print(Catty.type_of_animal)\n",
    "print(Kitten.type_of_animal)"
   ]
  },
  {
   "cell_type": "markdown",
   "metadata": {},
   "source": []
  },
  {
   "cell_type": "code",
   "execution_count": 5,
   "metadata": {},
   "outputs": [
    {
     "name": "stdout",
     "output_type": "stream",
     "text": [
      "4\n",
      "Hello, I am a Cat my name is Bhangad Bila meow meow\n",
      "Hello, I am a Cat my name is Karen meow meow\n",
      "Hello, I am a Cat my name is Mithilesh meow meow\n",
      "Cat\n",
      "Cat\n"
     ]
    }
   ],
   "source": [
    "class Cat():\n",
    "    type_of_animal = 'Cat'\n",
    "    def __init__(self,name,age,breed):\n",
    "        self.name = name\n",
    "        self.age = age\n",
    "        self.breed = breed\n",
    "    def speak(self):\n",
    "        print(f'Hello, I am a {Cat.type_of_animal} my name is {self.name} meow meow')\n",
    "Catty = Cat('Bhangad Bila',6,'Persian')\n",
    "Catty = Cat('Bhangad Bila',4,'Persian')\n",
    "Kitty = Cat('Mithilesh',3,'Persian')\n",
    "Kitten = Cat('Karen',10,'Persian')\n",
    "print(Catty.age)\n",
    "Catty.speak()\n",
    "Kitten.speak()\n",
    "Kitty.speak()\n",
    "print(Catty.type_of_animal)\n",
    "print(Kitten.type_of_animal)"
   ]
  },
  {
   "attachments": {},
   "cell_type": "markdown",
   "metadata": {},
   "source": [
    "# Fill in the line class methods to accept coordinates as a pair of tuples and return the slope and distance of the line"
   ]
  },
  {
   "cell_type": "code",
   "execution_count": 12,
   "metadata": {},
   "outputs": [
    {
     "name": "stdout",
     "output_type": "stream",
     "text": [
      "The slope of the given coordinates is :-0.3333333333333333\n",
      "The distance between given coordinates is :3.1622776601683795\n"
     ]
    }
   ],
   "source": [
    "class line():\n",
    "    def __init__(self,a1,b1,a2,b2):\n",
    "        self.a1 = a1\n",
    "        self.b1 = b1\n",
    "        self.a2 = a2\n",
    "        self.b2 = b2\n",
    "    def slope_calculator(self):\n",
    "        x = self.a2 - self.a1\n",
    "        y = self.b2 - self.b1\n",
    "        m = y/x\n",
    "        print(f'The slope of the given coordinates is :{m}')\n",
    "    def distance_calculator(self):\n",
    "        m1 = self.a2 - self.a1\n",
    "        m2 = self.b2 - self.b1\n",
    "        dis = ((m1)**2 + (m2)**2)**0.5\n",
    "        print(f'The distance between given coordinates is :{dis}')\n",
    "obj = line(3,8,6,7)\n",
    "obj.slope_calculator()\n",
    "obj.distance_calculator()"
   ]
  },
  {
   "attachments": {},
   "cell_type": "markdown",
   "metadata": {},
   "source": [
    "# To show the line and coordinates use turtle or matplot lib"
   ]
  },
  {
   "attachments": {},
   "cell_type": "markdown",
   "metadata": {},
   "source": [
    "# Make a class having function to calculate csa, tsa and vol."
   ]
  },
  {
   "cell_type": "code",
   "execution_count": 2,
   "metadata": {},
   "outputs": [],
   "source": [
    "import math"
   ]
  },
  {
   "cell_type": "code",
   "execution_count": 3,
   "metadata": {},
   "outputs": [
    {
     "name": "stdout",
     "output_type": "stream",
     "text": [
      "Total surface area of cylinder : 6503.096792930872 square cm\n",
      "Curved surface area : 3179.2917654328703 square cm\n",
      "Volume of cylinder : 36561.85530247801 cubic cm\n"
     ]
    }
   ],
   "source": [
    "class Cylinder:\n",
    "    def __init__(self,radius,height):\n",
    "        self.radius = radius\n",
    "        self.height = height\n",
    "    def tsa(self):\n",
    "        csa = 2*(math.pi)*(self.radius)*(self.height)                   #### csa of cylinder = 2(pi)rh\n",
    "        base = 2*(math.pi)*((self.radius)**2)\n",
    "        area = csa + base\n",
    "        print(f'Total surface area of cylinder : {area} square cm')\n",
    "    def curved_sa(self):\n",
    "        csa = 2*(math.pi)*(self.radius)*(self.height)\n",
    "        print(f'Curved surface area : {csa} square cm')\n",
    "    def volume(self):\n",
    "        vol = (math.pi)*((self.radius)**2)*(self.height)\n",
    "        print(f'Volume of cylinder : {vol} cubic cm')\n",
    "obj = Cylinder(float(input('Enter radius(in cm) :')),float(input('Enter height(in cm) :')))\n",
    "obj.tsa()\n",
    "obj.curved_sa()\n",
    "obj.volume()"
   ]
  },
  {
   "attachments": {},
   "cell_type": "markdown",
   "metadata": {},
   "source": [
    "# Class having function resulting in fibonacci series."
   ]
  },
  {
   "cell_type": "code",
   "execution_count": 7,
   "metadata": {},
   "outputs": [
    {
     "name": "stdout",
     "output_type": "stream",
     "text": [
      "The fibonacci series :41\n"
     ]
    }
   ],
   "source": [
    "class Fibonacci:\n",
    "    def __init__(self,n):\n",
    "        self.n = n\n",
    "        if n<0:\n",
    "            return False\n",
    "    def series_calculator(self):\n",
    "        fn_1 = self.n - 1\n",
    "        fn_2 = self.n - 2\n",
    "        fn = fn_1 + fn_2\n",
    "        print(f'The fibonacci series :{fn}')\n",
    "obj = Fibonacci(int(input('Enter n value :')))\n",
    "obj.series_calculator()"
   ]
  },
  {
   "cell_type": "code",
   "execution_count": 11,
   "metadata": {},
   "outputs": [
    {
     "ename": "IndexError",
     "evalue": "list index out of range",
     "output_type": "error",
     "traceback": [
      "\u001b[0;31m---------------------------------------------------------------------------\u001b[0m",
      "\u001b[0;31mIndexError\u001b[0m                                Traceback (most recent call last)",
      "\u001b[1;32m/Users/ritikramesh/Documents/Python/NETMAX/Oops.ipynb Cell 26\u001b[0m in \u001b[0;36m<cell line: 11>\u001b[0;34m()\u001b[0m\n\u001b[1;32m      <a href='vscode-notebook-cell:/Users/ritikramesh/Documents/Python/NETMAX/Oops.ipynb#X34sZmlsZQ%3D%3D?line=8'>9</a>\u001b[0m         \u001b[39mprint\u001b[39m(\u001b[39mf\u001b[39m\u001b[39m'\u001b[39m\u001b[39mThe fibonacci series :\u001b[39m\u001b[39m{\u001b[39;00mfn\u001b[39m}\u001b[39;00m\u001b[39m'\u001b[39m)\n\u001b[1;32m     <a href='vscode-notebook-cell:/Users/ritikramesh/Documents/Python/NETMAX/Oops.ipynb#X34sZmlsZQ%3D%3D?line=9'>10</a>\u001b[0m obj \u001b[39m=\u001b[39m Fibonacci()\n\u001b[0;32m---> <a href='vscode-notebook-cell:/Users/ritikramesh/Documents/Python/NETMAX/Oops.ipynb#X34sZmlsZQ%3D%3D?line=10'>11</a>\u001b[0m obj\u001b[39m.\u001b[39;49mseries_calculator(\u001b[39mint\u001b[39;49m(\u001b[39minput\u001b[39;49m(\u001b[39m'\u001b[39;49m\u001b[39mEnter n value :\u001b[39;49m\u001b[39m'\u001b[39;49m)))\n",
      "\u001b[1;32m/Users/ritikramesh/Documents/Python/NETMAX/Oops.ipynb Cell 26\u001b[0m in \u001b[0;36mFibonacci.series_calculator\u001b[0;34m(self, n)\u001b[0m\n\u001b[1;32m      <a href='vscode-notebook-cell:/Users/ritikramesh/Documents/Python/NETMAX/Oops.ipynb#X34sZmlsZQ%3D%3D?line=4'>5</a>\u001b[0m     \u001b[39mreturn\u001b[39;00m \u001b[39mFalse\u001b[39;00m\n\u001b[1;32m      <a href='vscode-notebook-cell:/Users/ritikramesh/Documents/Python/NETMAX/Oops.ipynb#X34sZmlsZQ%3D%3D?line=5'>6</a>\u001b[0m sequence \u001b[39m=\u001b[39m [\u001b[39m0\u001b[39m,\u001b[39m1\u001b[39m]\n\u001b[0;32m----> <a href='vscode-notebook-cell:/Users/ritikramesh/Documents/Python/NETMAX/Oops.ipynb#X34sZmlsZQ%3D%3D?line=6'>7</a>\u001b[0m fn \u001b[39m=\u001b[39m sequence[\u001b[39mself\u001b[39;49m\u001b[39m.\u001b[39;49mn \u001b[39m-\u001b[39;49m \u001b[39m1\u001b[39;49m] \u001b[39m+\u001b[39m sequence[\u001b[39mself\u001b[39m\u001b[39m.\u001b[39mn \u001b[39m-\u001b[39m \u001b[39m2\u001b[39m]\n\u001b[1;32m      <a href='vscode-notebook-cell:/Users/ritikramesh/Documents/Python/NETMAX/Oops.ipynb#X34sZmlsZQ%3D%3D?line=7'>8</a>\u001b[0m sequence\u001b[39m.\u001b[39mappend(fn)\n\u001b[1;32m      <a href='vscode-notebook-cell:/Users/ritikramesh/Documents/Python/NETMAX/Oops.ipynb#X34sZmlsZQ%3D%3D?line=8'>9</a>\u001b[0m \u001b[39mprint\u001b[39m(\u001b[39mf\u001b[39m\u001b[39m'\u001b[39m\u001b[39mThe fibonacci series :\u001b[39m\u001b[39m{\u001b[39;00mfn\u001b[39m}\u001b[39;00m\u001b[39m'\u001b[39m)\n",
      "\u001b[0;31mIndexError\u001b[0m: list index out of range"
     ]
    }
   ],
   "source": [
    "class Fibonacci:\n",
    "    def series_calculator(self,n):\n",
    "        self.n = n\n",
    "        if n<0:\n",
    "            return False\n",
    "        sequence = [0,1]\n",
    "        fn = sequence[self.n - 1] + sequence[self.n - 2]\n",
    "        sequence.append(fn)\n",
    "        print(f'The fibonacci series :{fn}')\n",
    "obj = Fibonacci()\n",
    "obj.series_calculator(int(input('Enter n value :')))"
   ]
  },
  {
   "cell_type": "code",
   "execution_count": 6,
   "metadata": {},
   "outputs": [
    {
     "name": "stdout",
     "output_type": "stream",
     "text": [
      "[0, 1, 1, 2, 3, 5, 8, 13, 21, 34, 55, 89, 144, 233, 377, 610, 987, 1597, 2584, 4181, 6765, 10946, 17711]\n"
     ]
    }
   ],
   "source": [
    "class Fibonacci:\n",
    "    def generate_sequence(self, n):\n",
    "        if n <= 0:\n",
    "            return False\n",
    "        sequence = [0, 1]\n",
    "        for i in range(2, n):\n",
    "            next_num = sequence[i-1] + sequence[i-2]\n",
    "            sequence.append(next_num)\n",
    "        return sequence\n",
    "fib = Fibonacci()\n",
    "print(fib.generate_sequence(int(input('Enter n value :'))))"
   ]
  },
  {
   "attachments": {},
   "cell_type": "markdown",
   "metadata": {},
   "source": [
    "<font size = 5> Inheritance</font>"
   ]
  },
  {
   "attachments": {},
   "cell_type": "markdown",
   "metadata": {},
   "source": [
    "<font size = 5>Single Inheritance</font>"
   ]
  },
  {
   "cell_type": "code",
   "execution_count": 7,
   "metadata": {},
   "outputs": [
    {
     "name": "stdout",
     "output_type": "stream",
     "text": [
      "I am a variable of class A.\n",
      "I am a variable of class B.\n"
     ]
    }
   ],
   "source": [
    "class A():\n",
    "    def __init__(self):\n",
    "        self.b = 'I am a variable of class A.'\n",
    "\n",
    "class B():\n",
    "    def __init__(self):\n",
    "        self.b = 'I am a variable of class B.'\n",
    "        \n",
    "obj_of_A = A()\n",
    "obj_of_B = B()\n",
    "\n",
    "print(obj_of_A.b)\n",
    "print(obj_of_B.b)"
   ]
  },
  {
   "cell_type": "code",
   "execution_count": 6,
   "metadata": {},
   "outputs": [
    {
     "name": "stdout",
     "output_type": "stream",
     "text": [
      "I am a variable of class A.\n"
     ]
    }
   ],
   "source": [
    "class A():\n",
    "    def __init__(self):\n",
    "        self.a = 'I am a variable of class A.'\n",
    "\n",
    "class B(A):\n",
    "    pass\n",
    "\n",
    "obj_of_B = B()\n",
    "\n",
    "print(obj_of_B.a)"
   ]
  },
  {
   "cell_type": "code",
   "execution_count": 8,
   "metadata": {},
   "outputs": [
    {
     "name": "stdout",
     "output_type": "stream",
     "text": [
      "I am a Cat I have Brain and Bones and my name is Tom\n"
     ]
    }
   ],
   "source": [
    "class CatParentClass():\n",
    "    def __init__(self):\n",
    "        self.bones = 'Bones'\n",
    "        self.brain = 'Brain'\n",
    "\n",
    "class Tom(CatParentClass):\n",
    "    name = 'Tom'\n",
    "    role = 'Being a Cat in Tom & Jerry show'\n",
    "    def about(self):\n",
    "        print(f'I am a Cat I have {self.brain} and {self.bones} and my name is {Tom.name}')\n",
    "        \n",
    "obj = Tom()\n",
    "obj.about()"
   ]
  },
  {
   "attachments": {},
   "cell_type": "markdown",
   "metadata": {},
   "source": [
    "<font size = 5>Multi level Inheritance</font>"
   ]
  },
  {
   "cell_type": "code",
   "execution_count": 9,
   "metadata": {},
   "outputs": [
    {
     "name": "stdout",
     "output_type": "stream",
     "text": [
      "I am a Human I have Brain and Bones and my name is Tom\n"
     ]
    }
   ],
   "source": [
    "class CatParentClass():\n",
    "    def __init__(self):\n",
    "        self.bones = 'Bones'\n",
    "        self.brain = 'Brain'\n",
    "\n",
    "class Tom(CatParentClass):\n",
    "    name = 'Tom'\n",
    "    role = 'Being a Cat in Tom & Jerry show'\n",
    "    def about(self):\n",
    "        print(f'I am a Cat I have {self.brain} and {self.bones} and my name is {Tom.name}')\n",
    "        \n",
    "class Ritik(Tom):\n",
    "    def about(self):\n",
    "        print(f'I am a Human I have {self.brain} and {self.bones} and my name is {Ritik.name}')\n",
    "        \n",
    "obj = Ritik()\n",
    "obj.about()"
   ]
  },
  {
   "cell_type": "code",
   "execution_count": 15,
   "metadata": {},
   "outputs": [
    {
     "name": "stdout",
     "output_type": "stream",
     "text": [
      "I want help.\n",
      "I will help you.\n"
     ]
    }
   ],
   "source": [
    "class A():\n",
    "    def help(self):\n",
    "        print('I want help.')\n",
    "class B():\n",
    "    def helpers(self):\n",
    "        print('I will help you.')\n",
    "class C(A,B):\n",
    "    pass\n",
    "obj = C()\n",
    "obj.help()\n",
    "obj.helpers()"
   ]
  },
  {
   "cell_type": "markdown",
   "metadata": {},
   "source": [
    "<font size = 5>Multiple Inheritance</font>"
   ]
  },
  {
   "cell_type": "code",
   "execution_count": 12,
   "metadata": {},
   "outputs": [
    {
     "name": "stdout",
     "output_type": "stream",
     "text": [
      "I want help.\n"
     ]
    }
   ],
   "source": [
    "class A():\n",
    "    def help(self):\n",
    "        print('I want help.')\n",
    "class B(A):\n",
    "    pass\n",
    "class C(A):\n",
    "    pass\n",
    "class D(A):\n",
    "    pass\n",
    "obj = B()\n",
    "obj.help()"
   ]
  },
  {
   "attachments": {},
   "cell_type": "markdown",
   "metadata": {},
   "source": [
    "<font size = 5>Hybrid Inheritance</font>"
   ]
  },
  {
   "cell_type": "code",
   "execution_count": 16,
   "metadata": {},
   "outputs": [
    {
     "name": "stdout",
     "output_type": "stream",
     "text": [
      "I want help.\n"
     ]
    }
   ],
   "source": [
    "class A():\n",
    "    def help(self):\n",
    "        print('I want help.')\n",
    "class B(A):\n",
    "    pass\n",
    "class C(D):\n",
    "    pass\n",
    "class D(A,C):\n",
    "    pass\n",
    "obj = B()\n",
    "obj.help()"
   ]
  },
  {
   "attachments": {},
   "cell_type": "markdown",
   "metadata": {},
   "source": [
    "<font size=6>Polymorphism</font><br>\n",
    "<font size=5>poly - many<br>\n",
    "morph - forms<br>\n",
    "can have multiple functions and all of them should work differently</font>"
   ]
  },
  {
   "attachments": {},
   "cell_type": "markdown",
   "metadata": {},
   "source": [
    "<font size=5>function overloading: same function name but different parameters (overloading doesn't exist in python) \n",
    "</font>"
   ]
  },
  {
   "cell_type": "code",
   "execution_count": 5,
   "metadata": {},
   "outputs": [
    {
     "name": "stdout",
     "output_type": "stream",
     "text": [
      "The sum of 2 number is : 30\n",
      "The product of 2 number is : 200\n"
     ]
    }
   ],
   "source": [
    "class A():\n",
    "    def any_thing(self,num1,num2):\n",
    "        result = num1 + num2\n",
    "        print(f'The sum of 2 number is : {result}')\n",
    "\n",
    "class B():\n",
    "    def any_thing(self,num1,num2):\n",
    "        result = num1 * num2\n",
    "        print(f'The product of 2 number is : {result}')\n",
    "\n",
    "obj_A = A()\n",
    "obj_b = B()\n",
    "obj_A.any_thing(10,20)\n",
    "obj_b.any_thing(10,20)"
   ]
  },
  {
   "attachments": {},
   "cell_type": "markdown",
   "metadata": {},
   "source": [
    "<font size=5>function overriding: last function overriding previous function</font>"
   ]
  },
  {
   "cell_type": "code",
   "execution_count": 7,
   "metadata": {},
   "outputs": [
    {
     "name": "stdout",
     "output_type": "stream",
     "text": [
      "The product of 2 number is : 200\n"
     ]
    }
   ],
   "source": [
    "class A():\n",
    "    def any_thing(self,num1,num2):\n",
    "        result = num1 + num2\n",
    "        print(f'The sum of 2 number is : {result}')\n",
    "\n",
    "class B(A):\n",
    "    def any_thing(self,num1,num2):\n",
    "        result = num1 * num2\n",
    "        print(f'The product of 2 number is : {result}')\n",
    "\n",
    "obj_b = B()\n",
    "obj_b.any_thing(10,20)"
   ]
  },
  {
   "attachments": {},
   "cell_type": "markdown",
   "metadata": {},
   "source": [
    "<font size=5>Operator overloading</font>"
   ]
  },
  {
   "attachments": {},
   "cell_type": "markdown",
   "metadata": {},
   "source": [
    "<font size=6>Abstraction</font>"
   ]
  },
  {
   "attachments": {},
   "cell_type": "markdown",
   "metadata": {},
   "source": [
    "<font size=5>hiding background complexities and only dealing with relevant information</font>"
   ]
  },
  {
   "cell_type": "code",
   "execution_count": 13,
   "metadata": {},
   "outputs": [
    {
     "data": {
      "text/plain": [
       "'Tommy'"
      ]
     },
     "execution_count": 13,
     "metadata": {},
     "output_type": "execute_result"
    }
   ],
   "source": [
    "class ForAllDog():\n",
    "    legs = 4\n",
    "    ears = 2\n",
    "    fur = True\n",
    "class Dog1(ForAllDog):\n",
    "    def __init__(self,name):\n",
    "        self.name = name\n",
    "class Dog2(ForAllDog):\n",
    "    def __init__(self,name):\n",
    "        self.name = name\n",
    "class Dog3(ForAllDog):\n",
    "    def __init__(self,name):\n",
    "        self.name = name\n",
    "class Dog4(ForAllDog):\n",
    "    def __init__(self,name):\n",
    "        self.name = name\n",
    "class Dog5(ForAllDog):\n",
    "    def __init__(self,name):\n",
    "        self.name = name\n",
    "class Dog6(ForAllDog):\n",
    "    def __init__(self,name):\n",
    "        self.name = name\n",
    "obj = Dog1('Tommy')\n",
    "obj.name"
   ]
  },
  {
   "attachments": {},
   "cell_type": "markdown",
   "metadata": {},
   "source": [
    "<font size=5>Functional Abstraction</font>"
   ]
  },
  {
   "cell_type": "code",
   "execution_count": 1,
   "metadata": {},
   "outputs": [
    {
     "name": "stdout",
     "output_type": "stream",
     "text": [
      "The product of 2 number is : 200\n"
     ]
    }
   ],
   "source": [
    "class A():\n",
    "    def any_thing(self,num1,num2):\n",
    "        result = num1 + num2\n",
    "        pass\n",
    "\n",
    "class B(A):\n",
    "    def any_thing(self,num1,num2):\n",
    "        result = num1 * num2\n",
    "        print(f'The product of 2 number is : {result}')\n",
    "\n",
    "obj_b = B()\n",
    "obj_b.any_thing(10,20)"
   ]
  }
 ],
 "metadata": {
  "kernelspec": {
   "display_name": "base",
   "language": "python",
   "name": "python3"
  },
  "language_info": {
   "codemirror_mode": {
    "name": "ipython",
    "version": 3
   },
   "file_extension": ".py",
   "mimetype": "text/x-python",
   "name": "python",
   "nbconvert_exporter": "python",
   "pygments_lexer": "ipython3",
   "version": "3.9.13"
  },
  "orig_nbformat": 4
 },
 "nbformat": 4,
 "nbformat_minor": 2
}
