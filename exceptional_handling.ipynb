{
 "cells": [
  {
   "cell_type": "code",
   "execution_count": 8,
   "metadata": {},
   "outputs": [
    {
     "ename": "NameError",
     "evalue": "name 'prnt' is not defined",
     "output_type": "error",
     "traceback": [
      "\u001b[0;31m---------------------------------------------------------------------------\u001b[0m",
      "\u001b[0;31mNameError\u001b[0m                                 Traceback (most recent call last)",
      "Cell \u001b[0;32mIn[8], line 1\u001b[0m\n\u001b[0;32m----> 1\u001b[0m prnt(\u001b[39m'\u001b[39m\u001b[39masdasd\u001b[39m\u001b[39m'\u001b[39m)\n",
      "\u001b[0;31mNameError\u001b[0m: name 'prnt' is not defined"
     ]
    }
   ],
   "source": [
    "print('asdasd')"
   ]
  },
  {
   "cell_type": "code",
   "execution_count": 1,
   "metadata": {},
   "outputs": [
    {
     "ename": "TypeError",
     "evalue": "'int' object is not iterable",
     "output_type": "error",
     "traceback": [
      "\u001b[0;31m---------------------------------------------------------------------------\u001b[0m",
      "\u001b[0;31mTypeError\u001b[0m                                 Traceback (most recent call last)",
      "\u001b[1;32m/Users/ritikramesh/Documents/Python/NETMAX/exceptional_handling.ipynb Cell 2\u001b[0m in \u001b[0;36m<cell line: 9>\u001b[0;34m()\u001b[0m\n\u001b[1;32m      <a href='vscode-notebook-cell:/Users/ritikramesh/Documents/Python/NETMAX/exceptional_handling.ipynb#W1sZmlsZQ%3D%3D?line=6'>7</a>\u001b[0m             count_lower \u001b[39m+\u001b[39m\u001b[39m=\u001b[39m \u001b[39m1\u001b[39m\n\u001b[1;32m      <a href='vscode-notebook-cell:/Users/ritikramesh/Documents/Python/NETMAX/exceptional_handling.ipynb#W1sZmlsZQ%3D%3D?line=7'>8</a>\u001b[0m     \u001b[39mreturn\u001b[39;00m count_lower,count_upper\n\u001b[0;32m----> <a href='vscode-notebook-cell:/Users/ritikramesh/Documents/Python/NETMAX/exceptional_handling.ipynb#W1sZmlsZQ%3D%3D?line=8'>9</a>\u001b[0m lo,up \u001b[39m=\u001b[39m lower_upper_count(\u001b[39m12345678\u001b[39;49m)\n\u001b[1;32m     <a href='vscode-notebook-cell:/Users/ritikramesh/Documents/Python/NETMAX/exceptional_handling.ipynb#W1sZmlsZQ%3D%3D?line=9'>10</a>\u001b[0m \u001b[39mprint\u001b[39m(\u001b[39mf\u001b[39m\u001b[39m'\u001b[39m\u001b[39mthe count of lower: \u001b[39m\u001b[39m{\u001b[39;00mlo\u001b[39m}\u001b[39;00m\u001b[39m'\u001b[39m)\n\u001b[1;32m     <a href='vscode-notebook-cell:/Users/ritikramesh/Documents/Python/NETMAX/exceptional_handling.ipynb#W1sZmlsZQ%3D%3D?line=10'>11</a>\u001b[0m \u001b[39mprint\u001b[39m(\u001b[39mf\u001b[39m\u001b[39m'\u001b[39m\u001b[39mthe count of lower: \u001b[39m\u001b[39m{\u001b[39;00mup\u001b[39m}\u001b[39;00m\u001b[39m'\u001b[39m)\n",
      "\u001b[1;32m/Users/ritikramesh/Documents/Python/NETMAX/exceptional_handling.ipynb Cell 2\u001b[0m in \u001b[0;36mlower_upper_count\u001b[0;34m(text)\u001b[0m\n\u001b[1;32m      <a href='vscode-notebook-cell:/Users/ritikramesh/Documents/Python/NETMAX/exceptional_handling.ipynb#W1sZmlsZQ%3D%3D?line=0'>1</a>\u001b[0m \u001b[39mdef\u001b[39;00m \u001b[39mlower_upper_count\u001b[39m(text):\n\u001b[1;32m      <a href='vscode-notebook-cell:/Users/ritikramesh/Documents/Python/NETMAX/exceptional_handling.ipynb#W1sZmlsZQ%3D%3D?line=1'>2</a>\u001b[0m     count_lower,count_upper \u001b[39m=\u001b[39m \u001b[39m0\u001b[39m,\u001b[39m0\u001b[39m\n\u001b[0;32m----> <a href='vscode-notebook-cell:/Users/ritikramesh/Documents/Python/NETMAX/exceptional_handling.ipynb#W1sZmlsZQ%3D%3D?line=2'>3</a>\u001b[0m     \u001b[39mfor\u001b[39;00m i \u001b[39min\u001b[39;00m text:\n\u001b[1;32m      <a href='vscode-notebook-cell:/Users/ritikramesh/Documents/Python/NETMAX/exceptional_handling.ipynb#W1sZmlsZQ%3D%3D?line=3'>4</a>\u001b[0m         \u001b[39mif\u001b[39;00m i\u001b[39m.\u001b[39misupper():\n\u001b[1;32m      <a href='vscode-notebook-cell:/Users/ritikramesh/Documents/Python/NETMAX/exceptional_handling.ipynb#W1sZmlsZQ%3D%3D?line=4'>5</a>\u001b[0m             count_upper \u001b[39m+\u001b[39m\u001b[39m=\u001b[39m \u001b[39m1\u001b[39m\n",
      "\u001b[0;31mTypeError\u001b[0m: 'int' object is not iterable"
     ]
    }
   ],
   "source": [
    "def lower_upper_count(text):\n",
    "    count_lower,count_upper = 0,0\n",
    "    for i in text:\n",
    "        if i.isupper():\n",
    "            count_upper += 1\n",
    "        elif i.islower():\n",
    "            count_lower += 1\n",
    "    return count_lower,count_upper\n",
    "lo,up = lower_upper_count(12345678)\n",
    "print(f'the count of lower: {lo}')\n",
    "print(f'the count of lower: {up}')"
   ]
  },
  {
   "attachments": {},
   "cell_type": "markdown",
   "metadata": {},
   "source": [
    "To tackle this error we use \n",
    "# TRY function"
   ]
  },
  {
   "cell_type": "code",
   "execution_count": 16,
   "metadata": {},
   "outputs": [
    {
     "name": "stdout",
     "output_type": "stream",
     "text": [
      "ERROR : Enter string or script or words only\n",
      "the count of lower: 0\n",
      "the count of lower: 0\n"
     ]
    }
   ],
   "source": [
    "def lower_upper_count(text):\n",
    "    count_lower,count_upper = 0,0\n",
    "    try:\n",
    "        for i in text:\n",
    "            if i.isupper():\n",
    "                count_upper += 1\n",
    "            elif i.islower():\n",
    "                count_lower += 1\n",
    "        return count_lower,count_upper\n",
    "    except:\n",
    "        print('ERROR : Enter string or script or words only')\n",
    "        return count_lower,count_upper\n",
    "lo,up = lower_upper_count(12345678)\n",
    "print(f'the count of lower: {lo}')\n",
    "print(f'the count of lower: {up}')"
   ]
  },
  {
   "attachments": {},
   "cell_type": "markdown",
   "metadata": {},
   "source": [
    "if try is true then else will work otherwise will run except"
   ]
  },
  {
   "cell_type": "code",
   "execution_count": 18,
   "metadata": {},
   "outputs": [
    {
     "name": "stdout",
     "output_type": "stream",
     "text": [
      "code theek kar jake\n",
      "finally code likh toh liya tune\n"
     ]
    }
   ],
   "source": [
    "try:\n",
    "    a,b =12,55\n",
    "    result = a * b\n",
    "    prin(result)\n",
    "except:\n",
    "    print(\"code theek kar jake\")\n",
    "else:\n",
    "    print('code sahi hi tera')\n",
    "finally:\n",
    "    print('finally code likh toh liya tune')            # will run even when there is error or maybe there isn't."
   ]
  },
  {
   "attachments": {},
   "cell_type": "markdown",
   "metadata": {},
   "source": [
    "Using end in print"
   ]
  }
 ],
 "metadata": {
  "kernelspec": {
   "display_name": "Python 3",
   "language": "python",
   "name": "python3"
  },
  "language_info": {
   "codemirror_mode": {
    "name": "ipython",
    "version": 3
   },
   "file_extension": ".py",
   "mimetype": "text/x-python",
   "name": "python",
   "nbconvert_exporter": "python",
   "pygments_lexer": "ipython3",
   "version": "3.9.13"
  },
  "orig_nbformat": 4
 },
 "nbformat": 4,
 "nbformat_minor": 2
}
